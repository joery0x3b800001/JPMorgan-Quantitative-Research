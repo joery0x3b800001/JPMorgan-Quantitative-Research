{
  "cells": [
    {
      "cell_type": "code",
      "execution_count": 1,
      "metadata": {
        "id": "wcBUs3BqwzGd"
      },
      "outputs": [],
      "source": [
        "# Import the libraries\n",
        "import pandas as pd\n",
        "import numpy as np\n",
        "import seaborn as sns\n",
        "from scipy import stats\n",
        "import matplotlib.pyplot as plt\n",
        "import matplotlib.dates as mdates\n",
        "from matplotlib import pyplot\n",
        "from scipy.stats import norm\n",
        "import datetime as dt"
      ]
    },
    {
      "cell_type": "code",
      "execution_count": 2,
      "metadata": {
        "id": "Pd4UGs8cwzGe"
      },
      "outputs": [],
      "source": [
        "# Import data\n",
        "Nat_gas = pd.read_csv(\"Nat_Gas.csv\", index_col=0)"
      ]
    },
    {
      "cell_type": "code",
      "execution_count": 3,
      "metadata": {
        "colab": {
          "base_uri": "https://localhost:8080/",
          "height": 390
        },
        "id": "GuIFBq-FwzGf",
        "outputId": "85a7a926-e47e-4515-c28b-7929399867e1"
      },
      "outputs": [
        {
          "data": {
            "text/html": [
              "<div>\n",
              "<style scoped>\n",
              "    .dataframe tbody tr th:only-of-type {\n",
              "        vertical-align: middle;\n",
              "    }\n",
              "\n",
              "    .dataframe tbody tr th {\n",
              "        vertical-align: top;\n",
              "    }\n",
              "\n",
              "    .dataframe thead th {\n",
              "        text-align: right;\n",
              "    }\n",
              "</style>\n",
              "<table border=\"1\" class=\"dataframe\">\n",
              "  <thead>\n",
              "    <tr style=\"text-align: right;\">\n",
              "      <th></th>\n",
              "      <th>Prices</th>\n",
              "    </tr>\n",
              "    <tr>\n",
              "      <th>Dates</th>\n",
              "      <th></th>\n",
              "    </tr>\n",
              "  </thead>\n",
              "  <tbody>\n",
              "    <tr>\n",
              "      <th>12/31/23</th>\n",
              "      <td>12.8</td>\n",
              "    </tr>\n",
              "    <tr>\n",
              "      <th>1/31/24</th>\n",
              "      <td>12.6</td>\n",
              "    </tr>\n",
              "    <tr>\n",
              "      <th>2/29/24</th>\n",
              "      <td>12.4</td>\n",
              "    </tr>\n",
              "    <tr>\n",
              "      <th>3/31/24</th>\n",
              "      <td>12.7</td>\n",
              "    </tr>\n",
              "    <tr>\n",
              "      <th>4/30/24</th>\n",
              "      <td>12.1</td>\n",
              "    </tr>\n",
              "    <tr>\n",
              "      <th>5/31/24</th>\n",
              "      <td>11.4</td>\n",
              "    </tr>\n",
              "    <tr>\n",
              "      <th>6/30/24</th>\n",
              "      <td>11.5</td>\n",
              "    </tr>\n",
              "    <tr>\n",
              "      <th>7/31/24</th>\n",
              "      <td>11.6</td>\n",
              "    </tr>\n",
              "    <tr>\n",
              "      <th>8/31/24</th>\n",
              "      <td>11.5</td>\n",
              "    </tr>\n",
              "    <tr>\n",
              "      <th>9/30/24</th>\n",
              "      <td>11.8</td>\n",
              "    </tr>\n",
              "  </tbody>\n",
              "</table>\n",
              "</div>"
            ],
            "text/plain": [
              "          Prices\n",
              "Dates           \n",
              "12/31/23    12.8\n",
              "1/31/24     12.6\n",
              "2/29/24     12.4\n",
              "3/31/24     12.7\n",
              "4/30/24     12.1\n",
              "5/31/24     11.4\n",
              "6/30/24     11.5\n",
              "7/31/24     11.6\n",
              "8/31/24     11.5\n",
              "9/30/24     11.8"
            ]
          },
          "execution_count": 3,
          "metadata": {},
          "output_type": "execute_result"
        }
      ],
      "source": [
        "Nat_gas.tail(10)"
      ]
    },
    {
      "cell_type": "code",
      "execution_count": 4,
      "metadata": {
        "colab": {
          "base_uri": "https://localhost:8080/"
        },
        "id": "5XG1VnD0wzGg",
        "outputId": "81add336-bcc2-4ea0-d1b1-553da184e308"
      },
      "outputs": [
        {
          "name": "stdout",
          "output_type": "stream",
          "text": [
            "<class 'pandas.core.frame.DataFrame'>\n",
            "Index: 48 entries, 10/31/20 to 9/30/24\n",
            "Data columns (total 1 columns):\n",
            " #   Column  Non-Null Count  Dtype  \n",
            "---  ------  --------------  -----  \n",
            " 0   Prices  48 non-null     float64\n",
            "dtypes: float64(1)\n",
            "memory usage: 768.0+ bytes\n"
          ]
        }
      ],
      "source": [
        "Nat_gas.info()"
      ]
    },
    {
      "cell_type": "code",
      "execution_count": 5,
      "metadata": {
        "colab": {
          "base_uri": "https://localhost:8080/",
          "height": 297
        },
        "id": "NSWlE8bawzGg",
        "outputId": "e88797a8-8470-4fc0-cf2b-7b4638f2bdf5"
      },
      "outputs": [
        {
          "data": {
            "text/html": [
              "<div>\n",
              "<style scoped>\n",
              "    .dataframe tbody tr th:only-of-type {\n",
              "        vertical-align: middle;\n",
              "    }\n",
              "\n",
              "    .dataframe tbody tr th {\n",
              "        vertical-align: top;\n",
              "    }\n",
              "\n",
              "    .dataframe thead th {\n",
              "        text-align: right;\n",
              "    }\n",
              "</style>\n",
              "<table border=\"1\" class=\"dataframe\">\n",
              "  <thead>\n",
              "    <tr style=\"text-align: right;\">\n",
              "      <th></th>\n",
              "      <th>Prices</th>\n",
              "    </tr>\n",
              "  </thead>\n",
              "  <tbody>\n",
              "    <tr>\n",
              "      <th>count</th>\n",
              "      <td>48.000000</td>\n",
              "    </tr>\n",
              "    <tr>\n",
              "      <th>mean</th>\n",
              "      <td>11.207083</td>\n",
              "    </tr>\n",
              "    <tr>\n",
              "      <th>std</th>\n",
              "      <td>0.757897</td>\n",
              "    </tr>\n",
              "    <tr>\n",
              "      <th>min</th>\n",
              "      <td>9.840000</td>\n",
              "    </tr>\n",
              "    <tr>\n",
              "      <th>25%</th>\n",
              "      <td>10.650000</td>\n",
              "    </tr>\n",
              "    <tr>\n",
              "      <th>50%</th>\n",
              "      <td>11.300000</td>\n",
              "    </tr>\n",
              "    <tr>\n",
              "      <th>75%</th>\n",
              "      <td>11.625000</td>\n",
              "    </tr>\n",
              "    <tr>\n",
              "      <th>max</th>\n",
              "      <td>12.800000</td>\n",
              "    </tr>\n",
              "  </tbody>\n",
              "</table>\n",
              "</div>"
            ],
            "text/plain": [
              "          Prices\n",
              "count  48.000000\n",
              "mean   11.207083\n",
              "std     0.757897\n",
              "min     9.840000\n",
              "25%    10.650000\n",
              "50%    11.300000\n",
              "75%    11.625000\n",
              "max    12.800000"
            ]
          },
          "execution_count": 5,
          "metadata": {},
          "output_type": "execute_result"
        }
      ],
      "source": [
        "Nat_gas.describe()"
      ]
    },
    {
      "cell_type": "code",
      "execution_count": 6,
      "metadata": {
        "colab": {
          "base_uri": "https://localhost:8080/",
          "height": 756
        },
        "id": "_pWzW23lwzGg",
        "outputId": "54904417-c123-4d5a-9d0f-3a23c7095e67"
      },
      "outputs": [
        {
          "data": {
            "image/png": "[encoded data removed]",
            "text/plain": [
              "<Figure size 1000x1000 with 1 Axes>"
            ]
          },
          "metadata": {},
          "output_type": "display_data"
        }
      ],
      "source": [
        "ax = Nat_gas[\"Prices\"].plot(figsize=(10, 10))"
      ]
    },
    {
      "cell_type": "code",
      "execution_count": 7,
      "metadata": {
        "colab": {
          "base_uri": "https://localhost:8080/"
        },
        "id": "FGB1VY2DwzGh",
        "outputId": "9a0fe31e-8e82-41cb-8e66-188190308661"
      },
      "outputs": [
        {
          "name": "stdout",
          "output_type": "stream",
          "text": [
            "Index(['10/31/20', '11/30/20', '12/31/20', '1/31/21', '2/28/21', '3/31/21',\n",
            "       '4/30/21', '5/31/21', '6/30/21', '7/31/21', '8/31/21', '9/30/21',\n",
            "       '10/31/21', '11/30/21', '12/31/21', '1/31/22', '2/28/22', '3/31/22',\n",
            "       '4/30/22', '5/31/22', '6/30/22', '7/31/22', '8/31/22', '9/30/22',\n",
            "       '10/31/22', '11/30/22', '12/31/22', '1/31/23', '2/28/23', '3/31/23',\n",
            "       '4/30/23', '5/31/23', '6/30/23', '7/31/23', '8/31/23', '9/30/23',\n",
            "       '10/31/23', '11/30/23', '12/31/23', '1/31/24', '2/29/24', '3/31/24',\n",
            "       '4/30/24', '5/31/24', '6/30/24', '7/31/24', '8/31/24', '9/30/24'],\n",
            "      dtype='object', name='Dates')\n"
          ]
        }
      ],
      "source": [
        "print(Nat_gas.index)"
      ]
    },
    {
      "cell_type": "code",
      "execution_count": 8,
      "metadata": {
        "id": "STh8Ecl3wzGi"
      },
      "outputs": [],
      "source": [
        "Nat_gas[\"SMA_3\"] = Nat_gas.Prices.rolling(3).mean()\n",
        "Nat_gas[\"SMA_12\"] = Nat_gas.Prices.rolling(10).mean()"
      ]
    },
    {
      "cell_type": "code",
      "execution_count": 9,
      "metadata": {
        "colab": {
          "base_uri": "https://localhost:8080/",
          "height": 1000
        },
        "id": "H1mhVAS6wzGi",
        "outputId": "1c6b5a9d-e835-4729-91c6-00670f471e06"
      },
      "outputs": [
        {
          "data": {
            "text/html": [
              "<div>\n",
              "<style scoped>\n",
              "    .dataframe tbody tr th:only-of-type {\n",
              "        vertical-align: middle;\n",
              "    }\n",
              "\n",
              "    .dataframe tbody tr th {\n",
              "        vertical-align: top;\n",
              "    }\n",
              "\n",
              "    .dataframe thead th {\n",
              "        text-align: right;\n",
              "    }\n",
              "</style>\n",
              "<table border=\"1\" class=\"dataframe\">\n",
              "  <thead>\n",
              "    <tr style=\"text-align: right;\">\n",
              "      <th></th>\n",
              "      <th>Prices</th>\n",
              "      <th>SMA_3</th>\n",
              "      <th>SMA_12</th>\n",
              "    </tr>\n",
              "    <tr>\n",
              "      <th>Dates</th>\n",
              "      <th></th>\n",
              "      <th></th>\n",
              "      <th></th>\n",
              "    </tr>\n",
              "  </thead>\n",
              "  <tbody>\n",
              "    <tr>\n",
              "      <th>10/31/20</th>\n",
              "      <td>10.10</td>\n",
              "      <td>NaN</td>\n",
              "      <td>NaN</td>\n",
              "    </tr>\n",
              "    <tr>\n",
              "      <th>11/30/20</th>\n",
              "      <td>10.30</td>\n",
              "      <td>NaN</td>\n",
              "      <td>NaN</td>\n",
              "    </tr>\n",
              "    <tr>\n",
              "      <th>12/31/20</th>\n",
              "      <td>11.00</td>\n",
              "      <td>10.466667</td>\n",
              "      <td>NaN</td>\n",
              "    </tr>\n",
              "    <tr>\n",
              "      <th>1/31/21</th>\n",
              "      <td>10.90</td>\n",
              "      <td>10.733333</td>\n",
              "      <td>NaN</td>\n",
              "    </tr>\n",
              "    <tr>\n",
              "      <th>2/28/21</th>\n",
              "      <td>10.90</td>\n",
              "      <td>10.933333</td>\n",
              "      <td>NaN</td>\n",
              "    </tr>\n",
              "    <tr>\n",
              "      <th>3/31/21</th>\n",
              "      <td>10.90</td>\n",
              "      <td>10.900000</td>\n",
              "      <td>NaN</td>\n",
              "    </tr>\n",
              "    <tr>\n",
              "      <th>4/30/21</th>\n",
              "      <td>10.40</td>\n",
              "      <td>10.733333</td>\n",
              "      <td>NaN</td>\n",
              "    </tr>\n",
              "    <tr>\n",
              "      <th>5/31/21</th>\n",
              "      <td>9.84</td>\n",
              "      <td>10.380000</td>\n",
              "      <td>NaN</td>\n",
              "    </tr>\n",
              "    <tr>\n",
              "      <th>6/30/21</th>\n",
              "      <td>10.00</td>\n",
              "      <td>10.080000</td>\n",
              "      <td>NaN</td>\n",
              "    </tr>\n",
              "    <tr>\n",
              "      <th>7/31/21</th>\n",
              "      <td>10.10</td>\n",
              "      <td>9.980000</td>\n",
              "      <td>10.444</td>\n",
              "    </tr>\n",
              "    <tr>\n",
              "      <th>8/31/21</th>\n",
              "      <td>10.30</td>\n",
              "      <td>10.133333</td>\n",
              "      <td>10.464</td>\n",
              "    </tr>\n",
              "    <tr>\n",
              "      <th>9/30/21</th>\n",
              "      <td>10.20</td>\n",
              "      <td>10.200000</td>\n",
              "      <td>10.454</td>\n",
              "    </tr>\n",
              "    <tr>\n",
              "      <th>10/31/21</th>\n",
              "      <td>10.10</td>\n",
              "      <td>10.200000</td>\n",
              "      <td>10.364</td>\n",
              "    </tr>\n",
              "    <tr>\n",
              "      <th>11/30/21</th>\n",
              "      <td>11.20</td>\n",
              "      <td>10.500000</td>\n",
              "      <td>10.394</td>\n",
              "    </tr>\n",
              "    <tr>\n",
              "      <th>12/31/21</th>\n",
              "      <td>11.40</td>\n",
              "      <td>10.900000</td>\n",
              "      <td>10.444</td>\n",
              "    </tr>\n",
              "    <tr>\n",
              "      <th>1/31/22</th>\n",
              "      <td>11.50</td>\n",
              "      <td>11.366667</td>\n",
              "      <td>10.504</td>\n",
              "    </tr>\n",
              "    <tr>\n",
              "      <th>2/28/22</th>\n",
              "      <td>11.80</td>\n",
              "      <td>11.566667</td>\n",
              "      <td>10.644</td>\n",
              "    </tr>\n",
              "    <tr>\n",
              "      <th>3/31/22</th>\n",
              "      <td>11.50</td>\n",
              "      <td>11.600000</td>\n",
              "      <td>10.810</td>\n",
              "    </tr>\n",
              "    <tr>\n",
              "      <th>4/30/22</th>\n",
              "      <td>10.70</td>\n",
              "      <td>11.333333</td>\n",
              "      <td>10.880</td>\n",
              "    </tr>\n",
              "    <tr>\n",
              "      <th>5/31/22</th>\n",
              "      <td>10.70</td>\n",
              "      <td>10.966667</td>\n",
              "      <td>10.940</td>\n",
              "    </tr>\n",
              "    <tr>\n",
              "      <th>6/30/22</th>\n",
              "      <td>10.40</td>\n",
              "      <td>10.600000</td>\n",
              "      <td>10.950</td>\n",
              "    </tr>\n",
              "    <tr>\n",
              "      <th>7/31/22</th>\n",
              "      <td>10.50</td>\n",
              "      <td>10.533333</td>\n",
              "      <td>10.980</td>\n",
              "    </tr>\n",
              "    <tr>\n",
              "      <th>8/31/22</th>\n",
              "      <td>10.40</td>\n",
              "      <td>10.433333</td>\n",
              "      <td>11.010</td>\n",
              "    </tr>\n",
              "    <tr>\n",
              "      <th>9/30/22</th>\n",
              "      <td>10.80</td>\n",
              "      <td>10.566667</td>\n",
              "      <td>10.970</td>\n",
              "    </tr>\n",
              "    <tr>\n",
              "      <th>10/31/22</th>\n",
              "      <td>11.00</td>\n",
              "      <td>10.733333</td>\n",
              "      <td>10.930</td>\n",
              "    </tr>\n",
              "    <tr>\n",
              "      <th>11/30/22</th>\n",
              "      <td>11.60</td>\n",
              "      <td>11.133333</td>\n",
              "      <td>10.940</td>\n",
              "    </tr>\n",
              "    <tr>\n",
              "      <th>12/31/22</th>\n",
              "      <td>11.60</td>\n",
              "      <td>11.400000</td>\n",
              "      <td>10.920</td>\n",
              "    </tr>\n",
              "    <tr>\n",
              "      <th>1/31/23</th>\n",
              "      <td>12.10</td>\n",
              "      <td>11.766667</td>\n",
              "      <td>10.980</td>\n",
              "    </tr>\n",
              "    <tr>\n",
              "      <th>2/28/23</th>\n",
              "      <td>11.70</td>\n",
              "      <td>11.800000</td>\n",
              "      <td>11.080</td>\n",
              "    </tr>\n",
              "    <tr>\n",
              "      <th>3/31/23</th>\n",
              "      <td>12.00</td>\n",
              "      <td>11.933333</td>\n",
              "      <td>11.210</td>\n",
              "    </tr>\n",
              "    <tr>\n",
              "      <th>4/30/23</th>\n",
              "      <td>11.50</td>\n",
              "      <td>11.733333</td>\n",
              "      <td>11.320</td>\n",
              "    </tr>\n",
              "    <tr>\n",
              "      <th>5/31/23</th>\n",
              "      <td>11.20</td>\n",
              "      <td>11.566667</td>\n",
              "      <td>11.390</td>\n",
              "    </tr>\n",
              "    <tr>\n",
              "      <th>6/30/23</th>\n",
              "      <td>10.90</td>\n",
              "      <td>11.200000</td>\n",
              "      <td>11.440</td>\n",
              "    </tr>\n",
              "    <tr>\n",
              "      <th>7/31/23</th>\n",
              "      <td>11.40</td>\n",
              "      <td>11.166667</td>\n",
              "      <td>11.500</td>\n",
              "    </tr>\n",
              "    <tr>\n",
              "      <th>8/31/23</th>\n",
              "      <td>11.10</td>\n",
              "      <td>11.133333</td>\n",
              "      <td>11.510</td>\n",
              "    </tr>\n",
              "    <tr>\n",
              "      <th>9/30/23</th>\n",
              "      <td>11.50</td>\n",
              "      <td>11.333333</td>\n",
              "      <td>11.500</td>\n",
              "    </tr>\n",
              "    <tr>\n",
              "      <th>10/31/23</th>\n",
              "      <td>11.80</td>\n",
              "      <td>11.466667</td>\n",
              "      <td>11.520</td>\n",
              "    </tr>\n",
              "    <tr>\n",
              "      <th>11/30/23</th>\n",
              "      <td>12.20</td>\n",
              "      <td>11.833333</td>\n",
              "      <td>11.530</td>\n",
              "    </tr>\n",
              "    <tr>\n",
              "      <th>12/31/23</th>\n",
              "      <td>12.80</td>\n",
              "      <td>12.266667</td>\n",
              "      <td>11.640</td>\n",
              "    </tr>\n",
              "    <tr>\n",
              "      <th>1/31/24</th>\n",
              "      <td>12.60</td>\n",
              "      <td>12.533333</td>\n",
              "      <td>11.700</td>\n",
              "    </tr>\n",
              "    <tr>\n",
              "      <th>2/29/24</th>\n",
              "      <td>12.40</td>\n",
              "      <td>12.600000</td>\n",
              "      <td>11.790</td>\n",
              "    </tr>\n",
              "    <tr>\n",
              "      <th>3/31/24</th>\n",
              "      <td>12.70</td>\n",
              "      <td>12.566667</td>\n",
              "      <td>11.940</td>\n",
              "    </tr>\n",
              "    <tr>\n",
              "      <th>4/30/24</th>\n",
              "      <td>12.10</td>\n",
              "      <td>12.400000</td>\n",
              "      <td>12.060</td>\n",
              "    </tr>\n",
              "    <tr>\n",
              "      <th>5/31/24</th>\n",
              "      <td>11.40</td>\n",
              "      <td>12.066667</td>\n",
              "      <td>12.060</td>\n",
              "    </tr>\n",
              "    <tr>\n",
              "      <th>6/30/24</th>\n",
              "      <td>11.50</td>\n",
              "      <td>11.666667</td>\n",
              "      <td>12.100</td>\n",
              "    </tr>\n",
              "    <tr>\n",
              "      <th>7/31/24</th>\n",
              "      <td>11.60</td>\n",
              "      <td>11.500000</td>\n",
              "      <td>12.110</td>\n",
              "    </tr>\n",
              "    <tr>\n",
              "      <th>8/31/24</th>\n",
              "      <td>11.50</td>\n",
              "      <td>11.533333</td>\n",
              "      <td>12.080</td>\n",
              "    </tr>\n",
              "    <tr>\n",
              "      <th>9/30/24</th>\n",
              "      <td>11.80</td>\n",
              "      <td>11.633333</td>\n",
              "      <td>12.040</td>\n",
              "    </tr>\n",
              "  </tbody>\n",
              "</table>\n",
              "</div>"
            ],
            "text/plain": [
              "          Prices      SMA_3  SMA_12\n",
              "Dates                              \n",
              "10/31/20   10.10        NaN     NaN\n",
              "11/30/20   10.30        NaN     NaN\n",
              "12/31/20   11.00  10.466667     NaN\n",
              "1/31/21    10.90  10.733333     NaN\n",
              "2/28/21    10.90  10.933333     NaN\n",
              "3/31/21    10.90  10.900000     NaN\n",
              "4/30/21    10.40  10.733333     NaN\n",
              "5/31/21     9.84  10.380000     NaN\n",
              "6/30/21    10.00  10.080000     NaN\n",
              "7/31/21    10.10   9.980000  10.444\n",
              "8/31/21    10.30  10.133333  10.464\n",
              "9/30/21    10.20  10.200000  10.454\n",
              "10/31/21   10.10  10.200000  10.364\n",
              "11/30/21   11.20  10.500000  10.394\n",
              "12/31/21   11.40  10.900000  10.444\n",
              "1/31/22    11.50  11.366667  10.504\n",
              "2/28/22    11.80  11.566667  10.644\n",
              "3/31/22    11.50  11.600000  10.810\n",
              "4/30/22    10.70  11.333333  10.880\n",
              "5/31/22    10.70  10.966667  10.940\n",
              "6/30/22    10.40  10.600000  10.950\n",
              "7/31/22    10.50  10.533333  10.980\n",
              "8/31/22    10.40  10.433333  11.010\n",
              "9/30/22    10.80  10.566667  10.970\n",
              "10/31/22   11.00  10.733333  10.930\n",
              "11/30/22   11.60  11.133333  10.940\n",
              "12/31/22   11.60  11.400000  10.920\n",
              "1/31/23    12.10  11.766667  10.980\n",
              "2/28/23    11.70  11.800000  11.080\n",
              "3/31/23    12.00  11.933333  11.210\n",
              "4/30/23    11.50  11.733333  11.320\n",
              "5/31/23    11.20  11.566667  11.390\n",
              "6/30/23    10.90  11.200000  11.440\n",
              "7/31/23    11.40  11.166667  11.500\n",
              "8/31/23    11.10  11.133333  11.510\n",
              "9/30/23    11.50  11.333333  11.500\n",
              "10/31/23   11.80  11.466667  11.520\n",
              "11/30/23   12.20  11.833333  11.530\n",
              "12/31/23   12.80  12.266667  11.640\n",
              "1/31/24    12.60  12.533333  11.700\n",
              "2/29/24    12.40  12.600000  11.790\n",
              "3/31/24    12.70  12.566667  11.940\n",
              "4/30/24    12.10  12.400000  12.060\n",
              "5/31/24    11.40  12.066667  12.060\n",
              "6/30/24    11.50  11.666667  12.100\n",
              "7/31/24    11.60  11.500000  12.110\n",
              "8/31/24    11.50  11.533333  12.080\n",
              "9/30/24    11.80  11.633333  12.040"
            ]
          },
          "execution_count": 9,
          "metadata": {},
          "output_type": "execute_result"
        }
      ],
      "source": [
        "Nat_gas"
      ]
    },
    {
      "cell_type": "code",
      "execution_count": 10,
      "metadata": {
        "colab": {
          "base_uri": "https://localhost:8080/",
          "height": 756
        },
        "id": "roA-y4yBwzGj",
        "outputId": "4ea775aa-2c08-4a2e-ba38-04d33368ba2c"
      },
      "outputs": [
        {
          "data": {
            "image/png": "[encoded data removed]",
            "text/plain": [
              "<Figure size 1000x1000 with 1 Axes>"
            ]
          },
          "metadata": {},
          "output_type": "display_data"
        }
      ],
      "source": [
        "Nat_gas.loc[:, [\"Prices\", \"SMA_3\", \"SMA_12\"]].plot(figsize=(10, 10))\n",
        "plt.legend(loc=\"upper left\", fontsize=8)\n",
        "plt.show()"
      ]
    },
    {
      "cell_type": "code",
      "execution_count": 11,
      "metadata": {
        "colab": {
          "base_uri": "https://localhost:8080/",
          "height": 235
        },
        "id": "8Fj_ISx1wzGj",
        "outputId": "b7c48efe-2c3a-4eab-f61d-a493d853570c"
      },
      "outputs": [
        {
          "data": {
            "text/html": [
              "<div>\n",
              "<style scoped>\n",
              "    .dataframe tbody tr th:only-of-type {\n",
              "        vertical-align: middle;\n",
              "    }\n",
              "\n",
              "    .dataframe tbody tr th {\n",
              "        vertical-align: top;\n",
              "    }\n",
              "\n",
              "    .dataframe thead th {\n",
              "        text-align: right;\n",
              "    }\n",
              "</style>\n",
              "<table border=\"1\" class=\"dataframe\">\n",
              "  <thead>\n",
              "    <tr style=\"text-align: right;\">\n",
              "      <th></th>\n",
              "      <th>time</th>\n",
              "      <th>Prices</th>\n",
              "    </tr>\n",
              "    <tr>\n",
              "      <th>Dates</th>\n",
              "      <th></th>\n",
              "      <th></th>\n",
              "    </tr>\n",
              "  </thead>\n",
              "  <tbody>\n",
              "    <tr>\n",
              "      <th>5/31/24</th>\n",
              "      <td>44</td>\n",
              "      <td>11.4</td>\n",
              "    </tr>\n",
              "    <tr>\n",
              "      <th>6/30/24</th>\n",
              "      <td>45</td>\n",
              "      <td>11.5</td>\n",
              "    </tr>\n",
              "    <tr>\n",
              "      <th>7/31/24</th>\n",
              "      <td>46</td>\n",
              "      <td>11.6</td>\n",
              "    </tr>\n",
              "    <tr>\n",
              "      <th>8/31/24</th>\n",
              "      <td>47</td>\n",
              "      <td>11.5</td>\n",
              "    </tr>\n",
              "    <tr>\n",
              "      <th>9/30/24</th>\n",
              "      <td>48</td>\n",
              "      <td>11.8</td>\n",
              "    </tr>\n",
              "  </tbody>\n",
              "</table>\n",
              "</div>"
            ],
            "text/plain": [
              "         time  Prices\n",
              "Dates                \n",
              "5/31/24    44    11.4\n",
              "6/30/24    45    11.5\n",
              "7/31/24    46    11.6\n",
              "8/31/24    47    11.5\n",
              "9/30/24    48    11.8"
            ]
          },
          "execution_count": 11,
          "metadata": {},
          "output_type": "execute_result"
        }
      ],
      "source": [
        "time = np.arange(1, len(Nat_gas) + 1)\n",
        "Nat_gas['time'] = time\n",
        "data = Nat_gas[['time', 'Prices']]\n",
        "data.tail()"
      ]
    },
    {
      "cell_type": "code",
      "execution_count": 12,
      "metadata": {
        "colab": {
          "base_uri": "https://localhost:8080/"
        },
        "id": "h8kR31PowzGj",
        "outputId": "013bd95c-7887-4d1f-e844-6f90513860b3"
      },
      "outputs": [
        {
          "data": {
            "text/plain": [
              "array([ 1,  2,  3,  4,  5,  6,  7,  8,  9, 10, 11, 12, 13, 14, 15, 16, 17,\n",
              "       18, 19, 20, 21, 22, 23, 24, 25, 26, 27, 28, 29, 30, 31, 32, 33, 34,\n",
              "       35, 36, 37, 38, 39, 40, 41, 42, 43, 44, 45, 46, 47, 48])"
            ]
          },
          "execution_count": 12,
          "metadata": {},
          "output_type": "execute_result"
        }
      ],
      "source": [
        "time"
      ]
    },
    {
      "cell_type": "code",
      "execution_count": 13,
      "metadata": {
        "colab": {
          "base_uri": "https://localhost:8080/",
          "height": 235
        },
        "id": "6p5u_ISxwzGj",
        "outputId": "db6aa6ae-6063-4648-ba56-56fbeb6070c2"
      },
      "outputs": [
        {
          "data": {
            "text/html": [
              "<div>\n",
              "<style scoped>\n",
              "    .dataframe tbody tr th:only-of-type {\n",
              "        vertical-align: middle;\n",
              "    }\n",
              "\n",
              "    .dataframe tbody tr th {\n",
              "        vertical-align: top;\n",
              "    }\n",
              "\n",
              "    .dataframe thead th {\n",
              "        text-align: right;\n",
              "    }\n",
              "</style>\n",
              "<table border=\"1\" class=\"dataframe\">\n",
              "  <thead>\n",
              "    <tr style=\"text-align: right;\">\n",
              "      <th></th>\n",
              "      <th>Prices</th>\n",
              "      <th>SMA_3</th>\n",
              "      <th>SMA_12</th>\n",
              "      <th>time</th>\n",
              "    </tr>\n",
              "    <tr>\n",
              "      <th>Dates</th>\n",
              "      <th></th>\n",
              "      <th></th>\n",
              "      <th></th>\n",
              "      <th></th>\n",
              "    </tr>\n",
              "  </thead>\n",
              "  <tbody>\n",
              "    <tr>\n",
              "      <th>5/31/24</th>\n",
              "      <td>11.4</td>\n",
              "      <td>12.066667</td>\n",
              "      <td>12.06</td>\n",
              "      <td>44</td>\n",
              "    </tr>\n",
              "    <tr>\n",
              "      <th>6/30/24</th>\n",
              "      <td>11.5</td>\n",
              "      <td>11.666667</td>\n",
              "      <td>12.10</td>\n",
              "      <td>45</td>\n",
              "    </tr>\n",
              "    <tr>\n",
              "      <th>7/31/24</th>\n",
              "      <td>11.6</td>\n",
              "      <td>11.500000</td>\n",
              "      <td>12.11</td>\n",
              "      <td>46</td>\n",
              "    </tr>\n",
              "    <tr>\n",
              "      <th>8/31/24</th>\n",
              "      <td>11.5</td>\n",
              "      <td>11.533333</td>\n",
              "      <td>12.08</td>\n",
              "      <td>47</td>\n",
              "    </tr>\n",
              "    <tr>\n",
              "      <th>9/30/24</th>\n",
              "      <td>11.8</td>\n",
              "      <td>11.633333</td>\n",
              "      <td>12.04</td>\n",
              "      <td>48</td>\n",
              "    </tr>\n",
              "  </tbody>\n",
              "</table>\n",
              "</div>"
            ],
            "text/plain": [
              "         Prices      SMA_3  SMA_12  time\n",
              "Dates                                   \n",
              "5/31/24    11.4  12.066667   12.06    44\n",
              "6/30/24    11.5  11.666667   12.10    45\n",
              "7/31/24    11.6  11.500000   12.11    46\n",
              "8/31/24    11.5  11.533333   12.08    47\n",
              "9/30/24    11.8  11.633333   12.04    48"
            ]
          },
          "execution_count": 13,
          "metadata": {},
          "output_type": "execute_result"
        }
      ],
      "source": [
        "Nat_gas.tail()"
      ]
    },
    {
      "cell_type": "code",
      "execution_count": 14,
      "metadata": {
        "colab": {
          "base_uri": "https://localhost:8080/"
        },
        "id": "A_wlND_BwzGj",
        "outputId": "fc4df9ac-5620-4a48-8000-df36faef0cdc"
      },
      "outputs": [
        {
          "data": {
            "text/plain": [
              "array([ 0.03901324, 10.25125887])"
            ]
          },
          "execution_count": 14,
          "metadata": {},
          "output_type": "execute_result"
        }
      ],
      "source": [
        "reg = np.polyfit(data['time'], data[\"Prices\"], deg = 1)\n",
        "reg"
      ]
    },
    {
      "cell_type": "code",
      "execution_count": 15,
      "metadata": {
        "colab": {
          "base_uri": "https://localhost:8080/",
          "height": 463
        },
        "id": "R-df6KbkwzGj",
        "outputId": "bed7ea34-21b1-4ddf-b976-f2c388fff4d7"
      },
      "outputs": [
        {
          "data": {
            "image/png": "[encoded data removed]",
            "text/plain": [
              "<Figure size 1000x600 with 1 Axes>"
            ]
          },
          "metadata": {},
          "output_type": "display_data"
        }
      ],
      "source": [
        "trend = np.polyval(reg, data['time'])\n",
        "std = data['Prices'].std()\n",
        "plt.figure(figsize=(10,6))\n",
        "plt.plot(data['time'].values, data['Prices'].values)\n",
        "plt.plot(data['time'].values, trend, 'r--')\n",
        "plt.plot(data['time'].values, trend - std, 'g--')\n",
        "plt.plot(data['time'].values, trend + std, 'g--');"
      ]
    },
    {
      "cell_type": "code",
      "execution_count": 16,
      "metadata": {
        "id": "_hAYoBWiwzGk"
      },
      "outputs": [],
      "source": [
        "from statsmodels.tsa.seasonal import seasonal_decompose"
      ]
    },
    {
      "cell_type": "code",
      "execution_count": 17,
      "metadata": {
        "id": "ZJQB0gnjwzGk"
      },
      "outputs": [],
      "source": [
        "result = seasonal_decompose(Nat_gas['Prices'], model='multiplicative', period= 12)"
      ]
    },
    {
      "cell_type": "code",
      "execution_count": 18,
      "metadata": {
        "colab": {
          "base_uri": "https://localhost:8080/",
          "height": 487
        },
        "id": "fZ0VEFg_wzGk",
        "outputId": "08fb604e-7c0e-4008-d809-121274045614"
      },
      "outputs": [
        {
          "data": {
            "image/png": "[encoded data removed]",
            "text/plain": [
              "<Figure size 640x480 with 4 Axes>"
            ]
          },
          "metadata": {},
          "output_type": "display_data"
        }
      ],
      "source": [
        "result.plot()\n",
        "plt.show()"
      ]
    },
    {
      "cell_type": "code",
      "execution_count": 19,
      "metadata": {
        "colab": {
          "base_uri": "https://localhost:8080/",
          "height": 360
        },
        "id": "D0M3uhGiwzGk",
        "outputId": "622630cc-0a8e-46bd-d8e3-caa615724ed6"
      },
      "outputs": [
        {
          "data": {
            "image/png": "[encoded data removed]",
            "text/plain": [
              "<Figure size 1600x700 with 1 Axes>"
            ]
          },
          "metadata": {},
          "output_type": "display_data"
        }
      ],
      "source": [
        "plt.figure(figsize=(16, 7))\n",
        "result.seasonal.plot();"
      ]
    },
    {
      "cell_type": "code",
      "execution_count": 20,
      "metadata": {
        "colab": {
          "base_uri": "https://localhost:8080/",
          "height": 360
        },
        "id": "B0acurDtwzGk",
        "outputId": "dde1ebcc-dc07-472f-945a-25a25c752e77"
      },
      "outputs": [
        {
          "data": {
            "image/png": "[encoded data removed]",
            "text/plain": [
              "<Figure size 1600x700 with 1 Axes>"
            ]
          },
          "metadata": {},
          "output_type": "display_data"
        }
      ],
      "source": [
        "plt.figure(figsize=(16, 7))\n",
        "result.trend.plot();"
      ]
    },
    {
      "cell_type": "markdown",
      "metadata": {
        "id": "Q4Z4nzwVwzGk"
      },
      "source": [
        "# Forecasting using SARIMA"
      ]
    },
    {
      "cell_type": "code",
      "execution_count": 21,
      "metadata": {
        "id": "YPRUO44DwzGl"
      },
      "outputs": [],
      "source": [
        "# Import data\n",
        "Nat_gas_df = pd.read_csv(\"Nat_Gas.csv\")"
      ]
    },
    {
      "cell_type": "code",
      "execution_count": 22,
      "metadata": {
        "colab": {
          "base_uri": "https://localhost:8080/",
          "height": 204
        },
        "id": "ATLI1oenwzGl",
        "outputId": "2451e76f-e8b7-4041-cca0-1629fdb9a06a"
      },
      "outputs": [
        {
          "data": {
            "text/html": [
              "<div>\n",
              "<style scoped>\n",
              "    .dataframe tbody tr th:only-of-type {\n",
              "        vertical-align: middle;\n",
              "    }\n",
              "\n",
              "    .dataframe tbody tr th {\n",
              "        vertical-align: top;\n",
              "    }\n",
              "\n",
              "    .dataframe thead th {\n",
              "        text-align: right;\n",
              "    }\n",
              "</style>\n",
              "<table border=\"1\" class=\"dataframe\">\n",
              "  <thead>\n",
              "    <tr style=\"text-align: right;\">\n",
              "      <th></th>\n",
              "      <th>Dates</th>\n",
              "      <th>Prices</th>\n",
              "    </tr>\n",
              "  </thead>\n",
              "  <tbody>\n",
              "    <tr>\n",
              "      <th>0</th>\n",
              "      <td>10/31/20</td>\n",
              "      <td>10.1</td>\n",
              "    </tr>\n",
              "    <tr>\n",
              "      <th>1</th>\n",
              "      <td>11/30/20</td>\n",
              "      <td>10.3</td>\n",
              "    </tr>\n",
              "    <tr>\n",
              "      <th>2</th>\n",
              "      <td>12/31/20</td>\n",
              "      <td>11.0</td>\n",
              "    </tr>\n",
              "    <tr>\n",
              "      <th>3</th>\n",
              "      <td>1/31/21</td>\n",
              "      <td>10.9</td>\n",
              "    </tr>\n",
              "    <tr>\n",
              "      <th>4</th>\n",
              "      <td>2/28/21</td>\n",
              "      <td>10.9</td>\n",
              "    </tr>\n",
              "  </tbody>\n",
              "</table>\n",
              "</div>"
            ],
            "text/plain": [
              "      Dates  Prices\n",
              "0  10/31/20    10.1\n",
              "1  11/30/20    10.3\n",
              "2  12/31/20    11.0\n",
              "3   1/31/21    10.9\n",
              "4   2/28/21    10.9"
            ]
          },
          "execution_count": 22,
          "metadata": {},
          "output_type": "execute_result"
        }
      ],
      "source": [
        "Nat_gas_df.head()"
      ]
    },
    {
      "cell_type": "code",
      "execution_count": 23,
      "metadata": {
        "id": "iZMj-EIHwzGl"
      },
      "outputs": [],
      "source": [
        "from statsmodels.tsa.statespace.sarimax import SARIMAX"
      ]
    },
    {
      "cell_type": "code",
      "execution_count": 24,
      "metadata": {
        "colab": {
          "base_uri": "https://localhost:8080/"
        },
        "id": "XF_NBk8mwzGl",
        "outputId": "97449e7d-99d3-4f2e-e576-a6ef7f2fac1a"
      },
      "outputs": [
        {
          "name": "stderr",
          "output_type": "stream",
          "text": [
            "/var/folders/18/r7sww6y93kj763sccggn9hzm0000gn/T/ipykernel_49464/1814694037.py:1: UserWarning: Could not infer format, so each element will be parsed individually, falling back to `dateutil`. To ensure parsing is consistent and as-expected, please specify a format.\n",
            "  Nat_gas_df['Dates'] = pd.to_datetime(Nat_gas_df['Dates'])\n"
          ]
        }
      ],
      "source": [
        "Nat_gas_df['Dates'] = pd.to_datetime(Nat_gas_df['Dates'])"
      ]
    },
    {
      "cell_type": "code",
      "execution_count": 25,
      "metadata": {
        "colab": {
          "base_uri": "https://localhost:8080/",
          "height": 204
        },
        "id": "PCYOMO8SwzGm",
        "outputId": "84b00685-4715-4600-8760-d8e09ffd7d22"
      },
      "outputs": [
        {
          "data": {
            "text/html": [
              "<div>\n",
              "<style scoped>\n",
              "    .dataframe tbody tr th:only-of-type {\n",
              "        vertical-align: middle;\n",
              "    }\n",
              "\n",
              "    .dataframe tbody tr th {\n",
              "        vertical-align: top;\n",
              "    }\n",
              "\n",
              "    .dataframe thead th {\n",
              "        text-align: right;\n",
              "    }\n",
              "</style>\n",
              "<table border=\"1\" class=\"dataframe\">\n",
              "  <thead>\n",
              "    <tr style=\"text-align: right;\">\n",
              "      <th></th>\n",
              "      <th>Dates</th>\n",
              "      <th>Prices</th>\n",
              "    </tr>\n",
              "  </thead>\n",
              "  <tbody>\n",
              "    <tr>\n",
              "      <th>0</th>\n",
              "      <td>2020-10-31</td>\n",
              "      <td>10.1</td>\n",
              "    </tr>\n",
              "    <tr>\n",
              "      <th>1</th>\n",
              "      <td>2020-11-30</td>\n",
              "      <td>10.3</td>\n",
              "    </tr>\n",
              "    <tr>\n",
              "      <th>2</th>\n",
              "      <td>2020-12-31</td>\n",
              "      <td>11.0</td>\n",
              "    </tr>\n",
              "    <tr>\n",
              "      <th>3</th>\n",
              "      <td>2021-01-31</td>\n",
              "      <td>10.9</td>\n",
              "    </tr>\n",
              "    <tr>\n",
              "      <th>4</th>\n",
              "      <td>2021-02-28</td>\n",
              "      <td>10.9</td>\n",
              "    </tr>\n",
              "  </tbody>\n",
              "</table>\n",
              "</div>"
            ],
            "text/plain": [
              "       Dates  Prices\n",
              "0 2020-10-31    10.1\n",
              "1 2020-11-30    10.3\n",
              "2 2020-12-31    11.0\n",
              "3 2021-01-31    10.9\n",
              "4 2021-02-28    10.9"
            ]
          },
          "execution_count": 25,
          "metadata": {},
          "output_type": "execute_result"
        }
      ],
      "source": [
        "Nat_gas_df.head()"
      ]
    },
    {
      "cell_type": "code",
      "execution_count": 26,
      "metadata": {
        "id": "0ohBv12zwzGm"
      },
      "outputs": [],
      "source": [
        "Nat_gas_df.set_index('Dates', inplace=True)"
      ]
    },
    {
      "cell_type": "code",
      "execution_count": 27,
      "metadata": {
        "colab": {
          "base_uri": "https://localhost:8080/",
          "height": 235
        },
        "id": "8cs-eeVEwzGm",
        "outputId": "184db855-6613-4716-fdb1-b7a6b885f7ec"
      },
      "outputs": [
        {
          "data": {
            "text/html": [
              "<div>\n",
              "<style scoped>\n",
              "    .dataframe tbody tr th:only-of-type {\n",
              "        vertical-align: middle;\n",
              "    }\n",
              "\n",
              "    .dataframe tbody tr th {\n",
              "        vertical-align: top;\n",
              "    }\n",
              "\n",
              "    .dataframe thead th {\n",
              "        text-align: right;\n",
              "    }\n",
              "</style>\n",
              "<table border=\"1\" class=\"dataframe\">\n",
              "  <thead>\n",
              "    <tr style=\"text-align: right;\">\n",
              "      <th></th>\n",
              "      <th>Prices</th>\n",
              "    </tr>\n",
              "    <tr>\n",
              "      <th>Dates</th>\n",
              "      <th></th>\n",
              "    </tr>\n",
              "  </thead>\n",
              "  <tbody>\n",
              "    <tr>\n",
              "      <th>2020-10-31</th>\n",
              "      <td>10.1</td>\n",
              "    </tr>\n",
              "    <tr>\n",
              "      <th>2020-11-30</th>\n",
              "      <td>10.3</td>\n",
              "    </tr>\n",
              "    <tr>\n",
              "      <th>2020-12-31</th>\n",
              "      <td>11.0</td>\n",
              "    </tr>\n",
              "    <tr>\n",
              "      <th>2021-01-31</th>\n",
              "      <td>10.9</td>\n",
              "    </tr>\n",
              "    <tr>\n",
              "      <th>2021-02-28</th>\n",
              "      <td>10.9</td>\n",
              "    </tr>\n",
              "  </tbody>\n",
              "</table>\n",
              "</div>"
            ],
            "text/plain": [
              "            Prices\n",
              "Dates             \n",
              "2020-10-31    10.1\n",
              "2020-11-30    10.3\n",
              "2020-12-31    11.0\n",
              "2021-01-31    10.9\n",
              "2021-02-28    10.9"
            ]
          },
          "execution_count": 27,
          "metadata": {},
          "output_type": "execute_result"
        }
      ],
      "source": [
        "Nat_gas_df.head()"
      ]
    },
    {
      "cell_type": "code",
      "execution_count": 28,
      "metadata": {
        "colab": {
          "base_uri": "https://localhost:8080/",
          "height": 483
        },
        "id": "U3OLWW5gwzGm",
        "outputId": "6403afa5-5539-44b6-ed88-83f9d9e53471"
      },
      "outputs": [
        {
          "data": {
            "text/plain": [
              "<Axes: xlabel='Dates'>"
            ]
          },
          "execution_count": 28,
          "metadata": {},
          "output_type": "execute_result"
        },
        {
          "data": {
            "image/png": "[encoded data removed]",
            "text/plain": [
              "<Figure size 640x480 with 1 Axes>"
            ]
          },
          "metadata": {},
          "output_type": "display_data"
        }
      ],
      "source": [
        "Nat_gas_df.plot()"
      ]
    },
    {
      "cell_type": "code",
      "execution_count": 29,
      "metadata": {
        "id": "NtkJ7a7AwzGm"
      },
      "outputs": [],
      "source": [
        "### Testing for Stationarity\n",
        "from statsmodels.tsa.stattools import adfuller"
      ]
    },
    {
      "cell_type": "code",
      "execution_count": 30,
      "metadata": {
        "id": "ewEfwN5gwzGm"
      },
      "outputs": [],
      "source": [
        "test_result = adfuller(Nat_gas_df['Prices'])"
      ]
    },
    {
      "cell_type": "code",
      "execution_count": 31,
      "metadata": {
        "id": "lDKaV6f5wzGm"
      },
      "outputs": [],
      "source": [
        "#Ho: It is non stationary\n",
        "#H1: It is stationary\n",
        "\n",
        "def adfuller_test(Prices):\n",
        "    result=adfuller(Prices)\n",
        "    labels = ['ADF Test Statistic','p-value','#Lags Used','Number of Observations Used']\n",
        "    for value,label in zip(result,labels):\n",
        "        print(label+' : '+str(value) )\n",
        "    if result[1] <= 0.05:\n",
        "        print(\"strong evidence against the null hypothesis(Ho), reject the null hypothesis. Data has no unit root and is stationary\")\n",
        "    else:\n",
        "        print(\"weak evidence against null hypothesis, time series has a unit root, indicating it is non-stationary \")"
      ]
    },
    {
      "cell_type": "code",
      "execution_count": 32,
      "metadata": {
        "colab": {
          "base_uri": "https://localhost:8080/"
        },
        "id": "UD-j3mWhwzGn",
        "outputId": "3853525b-b07d-4c6f-fd36-b376d2f6e339"
      },
      "outputs": [
        {
          "name": "stdout",
          "output_type": "stream",
          "text": [
            "ADF Test Statistic : 0.21807686169999216\n",
            "p-value : 0.9732574388448689\n",
            "#Lags Used : 10\n",
            "Number of Observations Used : 37\n",
            "weak evidence against null hypothesis, time series has a unit root, indicating it is non-stationary \n"
          ]
        }
      ],
      "source": [
        "adfuller_test(Nat_gas_df['Prices'])"
      ]
    },
    {
      "cell_type": "code",
      "execution_count": 33,
      "metadata": {
        "id": "9epOyBpvwzGn"
      },
      "outputs": [
        {
          "name": "stderr",
          "output_type": "stream",
          "text": [
            "/Users/shaunjoe/Documents/Git_Files/JPMorgan-Quantitative-Research/venv/lib/python3.9/site-packages/urllib3/__init__.py:35: NotOpenSSLWarning: urllib3 v2 only supports OpenSSL 1.1.1+, currently the 'ssl' module is compiled with 'LibreSSL 2.8.3'. See: https://github.com/urllib3/urllib3/issues/3020\n",
            "  warnings.warn(\n"
          ]
        }
      ],
      "source": [
        "import pmdarima as pm\n",
        "from pmdarima.model_selection import train_test_split"
      ]
    },
    {
      "cell_type": "code",
      "execution_count": 34,
      "metadata": {
        "colab": {
          "base_uri": "https://localhost:8080/",
          "height": 877
        },
        "id": "E8NVqixQwzGn",
        "outputId": "7f938329-87a5-44d7-c8f3-f5af62c3ad80"
      },
      "outputs": [
        {
          "name": "stdout",
          "output_type": "stream",
          "text": [
            "Performing stepwise search to minimize aic\n",
            " ARIMA(2,1,2)(1,0,1)[12] intercept   : AIC=37.883, Time=2.54 sec\n",
            " ARIMA(0,1,0)(0,0,0)[12] intercept   : AIC=48.334, Time=0.02 sec\n",
            " ARIMA(1,1,0)(1,0,0)[12] intercept   : AIC=38.394, Time=0.10 sec\n",
            " ARIMA(0,1,1)(0,0,1)[12] intercept   : AIC=42.336, Time=0.07 sec\n",
            " ARIMA(0,1,0)(0,0,0)[12]             : AIC=46.741, Time=0.02 sec\n",
            " ARIMA(2,1,2)(0,0,1)[12] intercept   : AIC=inf, Time=0.42 sec\n",
            " ARIMA(2,1,2)(1,0,0)[12] intercept   : AIC=39.810, Time=2.00 sec\n",
            " ARIMA(2,1,2)(2,0,1)[12] intercept   : AIC=39.864, Time=1.67 sec\n",
            " ARIMA(2,1,2)(1,0,2)[12] intercept   : AIC=38.317, Time=1.03 sec\n",
            " ARIMA(2,1,2)(0,0,0)[12] intercept   : AIC=35.984, Time=0.20 sec\n",
            " ARIMA(1,1,2)(0,0,0)[12] intercept   : AIC=53.197, Time=0.06 sec\n",
            " ARIMA(2,1,1)(0,0,0)[12] intercept   : AIC=53.566, Time=0.03 sec\n",
            " ARIMA(3,1,2)(0,0,0)[12] intercept   : AIC=53.701, Time=0.07 sec\n",
            " ARIMA(2,1,3)(0,0,0)[12] intercept   : AIC=53.674, Time=0.07 sec\n",
            " ARIMA(1,1,1)(0,0,0)[12] intercept   : AIC=51.953, Time=0.03 sec\n",
            " ARIMA(1,1,3)(0,0,0)[12] intercept   : AIC=54.043, Time=0.06 sec\n",
            " ARIMA(3,1,1)(0,0,0)[12] intercept   : AIC=inf, Time=0.09 sec\n",
            " ARIMA(3,1,3)(0,0,0)[12] intercept   : AIC=inf, Time=0.14 sec\n",
            " ARIMA(2,1,2)(0,0,0)[12]             : AIC=inf, Time=0.09 sec\n",
            "\n",
            "Best model:  ARIMA(2,1,2)(0,0,0)[12] intercept\n",
            "Total fit time: 8.725 seconds\n"
          ]
        },
        {
          "data": {
            "text/html": [
              "<table class=\"simpletable\">\n",
              "<caption>SARIMAX Results</caption>\n",
              "<tr>\n",
              "  <th>Dep. Variable:</th>           <td>y</td>        <th>  No. Observations:  </th>   <td>48</td>   \n",
              "</tr>\n",
              "<tr>\n",
              "  <th>Model:</th>           <td>SARIMAX(2, 1, 2)</td> <th>  Log Likelihood     </th> <td>-11.992</td>\n",
              "</tr>\n",
              "<tr>\n",
              "  <th>Date:</th>            <td>Wed, 03 Jul 2024</td> <th>  AIC                </th> <td>35.984</td> \n",
              "</tr>\n",
              "<tr>\n",
              "  <th>Time:</th>                <td>01:34:33</td>     <th>  BIC                </th> <td>47.085</td> \n",
              "</tr>\n",
              "<tr>\n",
              "  <th>Sample:</th>             <td>10-31-2020</td>    <th>  HQIC               </th> <td>40.162</td> \n",
              "</tr>\n",
              "<tr>\n",
              "  <th></th>                   <td>- 09-30-2024</td>   <th>                     </th>    <td> </td>   \n",
              "</tr>\n",
              "<tr>\n",
              "  <th>Covariance Type:</th>        <td>opg</td>       <th>                     </th>    <td> </td>   \n",
              "</tr>\n",
              "</table>\n",
              "<table class=\"simpletable\">\n",
              "<tr>\n",
              "      <td></td>         <th>coef</th>     <th>std err</th>      <th>z</th>      <th>P>|z|</th>  <th>[0.025</th>    <th>0.975]</th>  \n",
              "</tr>\n",
              "<tr>\n",
              "  <th>intercept</th> <td>    0.0091</td> <td>    0.008</td> <td>    1.131</td> <td> 0.258</td> <td>   -0.007</td> <td>    0.025</td>\n",
              "</tr>\n",
              "<tr>\n",
              "  <th>ar.L1</th>     <td>    1.6979</td> <td>    0.050</td> <td>   34.112</td> <td> 0.000</td> <td>    1.600</td> <td>    1.795</td>\n",
              "</tr>\n",
              "<tr>\n",
              "  <th>ar.L2</th>     <td>   -0.9633</td> <td>    0.047</td> <td>  -20.656</td> <td> 0.000</td> <td>   -1.055</td> <td>   -0.872</td>\n",
              "</tr>\n",
              "<tr>\n",
              "  <th>ma.L1</th>     <td>   -1.8116</td> <td>    0.390</td> <td>   -4.649</td> <td> 0.000</td> <td>   -2.575</td> <td>   -1.048</td>\n",
              "</tr>\n",
              "<tr>\n",
              "  <th>ma.L2</th>     <td>    0.9645</td> <td>    0.433</td> <td>    2.229</td> <td> 0.026</td> <td>    0.117</td> <td>    1.812</td>\n",
              "</tr>\n",
              "<tr>\n",
              "  <th>sigma2</th>    <td>    0.0880</td> <td>    0.036</td> <td>    2.416</td> <td> 0.016</td> <td>    0.017</td> <td>    0.159</td>\n",
              "</tr>\n",
              "</table>\n",
              "<table class=\"simpletable\">\n",
              "<tr>\n",
              "  <th>Ljung-Box (L1) (Q):</th>     <td>6.58</td> <th>  Jarque-Bera (JB):  </th> <td>2.31</td>\n",
              "</tr>\n",
              "<tr>\n",
              "  <th>Prob(Q):</th>                <td>0.01</td> <th>  Prob(JB):          </th> <td>0.31</td>\n",
              "</tr>\n",
              "<tr>\n",
              "  <th>Heteroskedasticity (H):</th> <td>0.85</td> <th>  Skew:              </th> <td>0.51</td>\n",
              "</tr>\n",
              "<tr>\n",
              "  <th>Prob(H) (two-sided):</th>    <td>0.74</td> <th>  Kurtosis:          </th> <td>2.62</td>\n",
              "</tr>\n",
              "</table><br/><br/>Warnings:<br/>[1] Covariance matrix calculated using the outer product of gradients (complex-step)."
            ],
            "text/latex": [
              "\\begin{center}\n",
              "\\begin{tabular}{lclc}\n",
              "\\toprule\n",
              "\\textbf{Dep. Variable:}          &        y         & \\textbf{  No. Observations:  } &     48      \\\\\n",
              "\\textbf{Model:}                  & SARIMAX(2, 1, 2) & \\textbf{  Log Likelihood     } &  -11.992    \\\\\n",
              "\\textbf{Date:}                   & Wed, 03 Jul 2024 & \\textbf{  AIC                } &   35.984    \\\\\n",
              "\\textbf{Time:}                   &     01:34:33     & \\textbf{  BIC                } &   47.085    \\\\\n",
              "\\textbf{Sample:}                 &    10-31-2020    & \\textbf{  HQIC               } &   40.162    \\\\\n",
              "\\textbf{}                        &   - 09-30-2024   & \\textbf{                     } &             \\\\\n",
              "\\textbf{Covariance Type:}        &       opg        & \\textbf{                     } &             \\\\\n",
              "\\bottomrule\n",
              "\\end{tabular}\n",
              "\\begin{tabular}{lcccccc}\n",
              "                   & \\textbf{coef} & \\textbf{std err} & \\textbf{z} & \\textbf{P$> |$z$|$} & \\textbf{[0.025} & \\textbf{0.975]}  \\\\\n",
              "\\midrule\n",
              "\\textbf{intercept} &       0.0091  &        0.008     &     1.131  &         0.258        &       -0.007    &        0.025     \\\\\n",
              "\\textbf{ar.L1}     &       1.6979  &        0.050     &    34.112  &         0.000        &        1.600    &        1.795     \\\\\n",
              "\\textbf{ar.L2}     &      -0.9633  &        0.047     &   -20.656  &         0.000        &       -1.055    &       -0.872     \\\\\n",
              "\\textbf{ma.L1}     &      -1.8116  &        0.390     &    -4.649  &         0.000        &       -2.575    &       -1.048     \\\\\n",
              "\\textbf{ma.L2}     &       0.9645  &        0.433     &     2.229  &         0.026        &        0.117    &        1.812     \\\\\n",
              "\\textbf{sigma2}    &       0.0880  &        0.036     &     2.416  &         0.016        &        0.017    &        0.159     \\\\\n",
              "\\bottomrule\n",
              "\\end{tabular}\n",
              "\\begin{tabular}{lclc}\n",
              "\\textbf{Ljung-Box (L1) (Q):}     & 6.58 & \\textbf{  Jarque-Bera (JB):  } & 2.31  \\\\\n",
              "\\textbf{Prob(Q):}                & 0.01 & \\textbf{  Prob(JB):          } & 0.31  \\\\\n",
              "\\textbf{Heteroskedasticity (H):} & 0.85 & \\textbf{  Skew:              } & 0.51  \\\\\n",
              "\\textbf{Prob(H) (two-sided):}    & 0.74 & \\textbf{  Kurtosis:          } & 2.62  \\\\\n",
              "\\bottomrule\n",
              "\\end{tabular}\n",
              "%\\caption{SARIMAX Results}\n",
              "\\end{center}\n",
              "\n",
              "Warnings: \\newline\n",
              " [1] Covariance matrix calculated using the outer product of gradients (complex-step)."
            ],
            "text/plain": [
              "<class 'statsmodels.iolib.summary.Summary'>\n",
              "\"\"\"\n",
              "                               SARIMAX Results                                \n",
              "==============================================================================\n",
              "Dep. Variable:                      y   No. Observations:                   48\n",
              "Model:               SARIMAX(2, 1, 2)   Log Likelihood                 -11.992\n",
              "Date:                Wed, 03 Jul 2024   AIC                             35.984\n",
              "Time:                        01:34:33   BIC                             47.085\n",
              "Sample:                    10-31-2020   HQIC                            40.162\n",
              "                         - 09-30-2024                                         \n",
              "Covariance Type:                  opg                                         \n",
              "==============================================================================\n",
              "                 coef    std err          z      P>|z|      [0.025      0.975]\n",
              "------------------------------------------------------------------------------\n",
              "intercept      0.0091      0.008      1.131      0.258      -0.007       0.025\n",
              "ar.L1          1.6979      0.050     34.112      0.000       1.600       1.795\n",
              "ar.L2         -0.9633      0.047    -20.656      0.000      -1.055      -0.872\n",
              "ma.L1         -1.8116      0.390     -4.649      0.000      -2.575      -1.048\n",
              "ma.L2          0.9645      0.433      2.229      0.026       0.117       1.812\n",
              "sigma2         0.0880      0.036      2.416      0.016       0.017       0.159\n",
              "===================================================================================\n",
              "Ljung-Box (L1) (Q):                   6.58   Jarque-Bera (JB):                 2.31\n",
              "Prob(Q):                              0.01   Prob(JB):                         0.31\n",
              "Heteroskedasticity (H):               0.85   Skew:                             0.51\n",
              "Prob(H) (two-sided):                  0.74   Kurtosis:                         2.62\n",
              "===================================================================================\n",
              "\n",
              "Warnings:\n",
              "[1] Covariance matrix calculated using the outer product of gradients (complex-step).\n",
              "\"\"\""
            ]
          },
          "execution_count": 34,
          "metadata": {},
          "output_type": "execute_result"
        }
      ],
      "source": [
        "#Let's run auto_arima() function to get best p,d,q,P,D,Q values\n",
        "\n",
        "pm.auto_arima(Nat_gas_df['Prices'], seasonal=True, m=12,max_p=7, max_d=5,max_q=7, max_P=4, max_D=4,max_Q=4,\n",
        "               trace=True,error_action='ignore', suppress_warnings=True, stepwise=True).summary()\n"
      ]
    },
    {
      "cell_type": "code",
      "execution_count": 35,
      "metadata": {
        "id": "AY3niZj6wzGn"
      },
      "outputs": [],
      "source": [
        "# Let's split the data into train and test set\n",
        "\n",
        "train_data = Nat_gas_df[:len(Nat_gas_df)-12]\n",
        "test_data = Nat_gas_df[len(Nat_gas_df)-12:]"
      ]
    },
    {
      "cell_type": "code",
      "execution_count": 36,
      "metadata": {
        "colab": {
          "base_uri": "https://localhost:8080/",
          "height": 629
        },
        "id": "pVtIpngDwzGn",
        "outputId": "ec02207b-9942-4265-836a-350b8ed5c893"
      },
      "outputs": [
        {
          "name": "stdout",
          "output_type": "stream",
          "text": [
            "RUNNING THE L-BFGS-B CODE\n",
            "\n",
            "           * * *\n",
            "\n",
            "Machine precision = 2.220D-16\n",
            " N =            7     M =           10\n",
            "\n",
            "At X0         0 variables are exactly at the bounds\n",
            "\n",
            "At iterate    0    f=  1.63074D-01    |proj g|=  1.65398D-01\n"
          ]
        },
        {
          "name": "stderr",
          "output_type": "stream",
          "text": [
            "/Users/shaunjoe/Documents/Git_Files/JPMorgan-Quantitative-Research/venv/lib/python3.9/site-packages/statsmodels/tsa/base/tsa_model.py:473: ValueWarning: No frequency information was provided, so inferred frequency M will be used.\n",
            "  self._init_dates(dates, freq)\n",
            "/Users/shaunjoe/Documents/Git_Files/JPMorgan-Quantitative-Research/venv/lib/python3.9/site-packages/statsmodels/tsa/base/tsa_model.py:473: ValueWarning: No frequency information was provided, so inferred frequency M will be used.\n",
            "  self._init_dates(dates, freq)\n",
            "/Users/shaunjoe/Documents/Git_Files/JPMorgan-Quantitative-Research/venv/lib/python3.9/site-packages/statsmodels/tsa/statespace/sarimax.py:866: UserWarning: Too few observations to estimate starting parameters for seasonal ARMA. All parameters except for variances will be set to zeros.\n",
            "  warn('Too few observations to estimate starting parameters%s.'\n",
            " This problem is unconstrained.\n"
          ]
        },
        {
          "name": "stdout",
          "output_type": "stream",
          "text": [
            "\n",
            "At iterate    5    f=  7.81434D-02    |proj g|=  1.75981D-01\n",
            "\n",
            "At iterate   10    f=  4.62331D-02    |proj g|=  1.30519D-01\n",
            "\n",
            "At iterate   15    f=  4.25321D-02    |proj g|=  5.92188D-02\n",
            "\n",
            "At iterate   20    f=  1.69214D-02    |proj g|=  1.82692D-01\n",
            "\n",
            "At iterate   25    f=  5.52075D-03    |proj g|=  1.02623D-01\n",
            "\n",
            "At iterate   30    f= -2.63478D-03    |proj g|=  2.54006D-02\n",
            "\n",
            "At iterate   35    f= -4.01136D-03    |proj g|=  2.14453D-03\n",
            "\n",
            "At iterate   40    f= -4.36236D-03    |proj g|=  2.25129D-02\n",
            "\n",
            "At iterate   45    f= -4.46184D-03    |proj g|=  4.65475D-03\n",
            "\n",
            "At iterate   50    f= -4.64394D-03    |proj g|=  1.15060D-02\n",
            "\n",
            "           * * *\n",
            "\n",
            "Tit   = total number of iterations\n",
            "Tnf   = total number of function evaluations\n",
            "Tnint = total number of segments explored during Cauchy searches\n",
            "Skip  = number of BFGS updates skipped\n",
            "Nact  = number of active bounds at final generalized Cauchy point\n",
            "Projg = norm of the final projected gradient\n",
            "F     = final function value\n",
            "\n",
            "           * * *\n",
            "\n",
            "   N    Tit     Tnf  Tnint  Skip  Nact     Projg        F\n",
            "    7     50     59      1     0     0   1.151D-02  -4.644D-03\n",
            "  F =  -4.6439432828540260E-003\n",
            "\n",
            "STOP: TOTAL NO. of ITERATIONS REACHED LIMIT                 \n"
          ]
        },
        {
          "name": "stderr",
          "output_type": "stream",
          "text": [
            "/Users/shaunjoe/Documents/Git_Files/JPMorgan-Quantitative-Research/venv/lib/python3.9/site-packages/statsmodels/base/model.py:607: ConvergenceWarning: Maximum Likelihood optimization failed to converge. Check mle_retvals\n",
            "  warnings.warn(\"Maximum Likelihood optimization failed to \"\n"
          ]
        },
        {
          "data": {
            "text/html": [
              "<table class=\"simpletable\">\n",
              "<caption>SARIMAX Results</caption>\n",
              "<tr>\n",
              "  <th>Dep. Variable:</th>                <td>Prices</td>              <th>  No. Observations:  </th>   <td>36</td>  \n",
              "</tr>\n",
              "<tr>\n",
              "  <th>Model:</th>           <td>SARIMAX(2, 1, 2)x(1, 1, [1], 12)</td> <th>  Log Likelihood     </th>  <td>0.167</td>\n",
              "</tr>\n",
              "<tr>\n",
              "  <th>Date:</th>                    <td>Wed, 03 Jul 2024</td>         <th>  AIC                </th> <td>13.666</td>\n",
              "</tr>\n",
              "<tr>\n",
              "  <th>Time:</th>                        <td>01:34:34</td>             <th>  BIC                </th> <td>21.614</td>\n",
              "</tr>\n",
              "<tr>\n",
              "  <th>Sample:</th>                     <td>10-31-2020</td>            <th>  HQIC               </th> <td>15.665</td>\n",
              "</tr>\n",
              "<tr>\n",
              "  <th></th>                           <td>- 09-30-2023</td>           <th>                     </th>    <td> </td>  \n",
              "</tr>\n",
              "<tr>\n",
              "  <th>Covariance Type:</th>                <td>opg</td>               <th>                     </th>    <td> </td>  \n",
              "</tr>\n",
              "</table>\n",
              "<table class=\"simpletable\">\n",
              "<tr>\n",
              "      <td></td>        <th>coef</th>     <th>std err</th>      <th>z</th>      <th>P>|z|</th>  <th>[0.025</th>    <th>0.975]</th>  \n",
              "</tr>\n",
              "<tr>\n",
              "  <th>ar.L1</th>    <td>   -1.0943</td> <td>  112.226</td> <td>   -0.010</td> <td> 0.992</td> <td> -221.054</td> <td>  218.865</td>\n",
              "</tr>\n",
              "<tr>\n",
              "  <th>ar.L2</th>    <td>   -0.0946</td> <td>   10.766</td> <td>   -0.009</td> <td> 0.993</td> <td>  -21.196</td> <td>   21.007</td>\n",
              "</tr>\n",
              "<tr>\n",
              "  <th>ma.L1</th>    <td>   -0.2568</td> <td> 1254.576</td> <td>   -0.000</td> <td> 1.000</td> <td>-2459.180</td> <td> 2458.667</td>\n",
              "</tr>\n",
              "<tr>\n",
              "  <th>ma.L2</th>    <td>   -0.7431</td> <td>  932.282</td> <td>   -0.001</td> <td> 0.999</td> <td>-1827.982</td> <td> 1826.496</td>\n",
              "</tr>\n",
              "<tr>\n",
              "  <th>ar.S.L12</th> <td>   -0.6450</td> <td>    0.778</td> <td>   -0.829</td> <td> 0.407</td> <td>   -2.170</td> <td>    0.880</td>\n",
              "</tr>\n",
              "<tr>\n",
              "  <th>ma.S.L12</th> <td>   -0.9976</td> <td> 1616.056</td> <td>   -0.001</td> <td> 1.000</td> <td>-3168.409</td> <td> 3166.414</td>\n",
              "</tr>\n",
              "<tr>\n",
              "  <th>sigma2</th>   <td>    0.0156</td> <td>   30.879</td> <td>    0.001</td> <td> 1.000</td> <td>  -60.506</td> <td>   60.537</td>\n",
              "</tr>\n",
              "</table>\n",
              "<table class=\"simpletable\">\n",
              "<tr>\n",
              "  <th>Ljung-Box (L1) (Q):</th>     <td>0.04</td> <th>  Jarque-Bera (JB):  </th> <td>0.40</td> \n",
              "</tr>\n",
              "<tr>\n",
              "  <th>Prob(Q):</th>                <td>0.84</td> <th>  Prob(JB):          </th> <td>0.82</td> \n",
              "</tr>\n",
              "<tr>\n",
              "  <th>Heteroskedasticity (H):</th> <td>0.92</td> <th>  Skew:              </th> <td>-0.22</td>\n",
              "</tr>\n",
              "<tr>\n",
              "  <th>Prob(H) (two-sided):</th>    <td>0.90</td> <th>  Kurtosis:          </th> <td>2.53</td> \n",
              "</tr>\n",
              "</table><br/><br/>Warnings:<br/>[1] Covariance matrix calculated using the outer product of gradients (complex-step)."
            ],
            "text/latex": [
              "\\begin{center}\n",
              "\\begin{tabular}{lclc}\n",
              "\\toprule\n",
              "\\textbf{Dep. Variable:}          &              Prices              & \\textbf{  No. Observations:  } &     36      \\\\\n",
              "\\textbf{Model:}                  & SARIMAX(2, 1, 2)x(1, 1, [1], 12) & \\textbf{  Log Likelihood     } &   0.167     \\\\\n",
              "\\textbf{Date:}                   &         Wed, 03 Jul 2024         & \\textbf{  AIC                } &   13.666    \\\\\n",
              "\\textbf{Time:}                   &             01:34:34             & \\textbf{  BIC                } &   21.614    \\\\\n",
              "\\textbf{Sample:}                 &            10-31-2020            & \\textbf{  HQIC               } &   15.665    \\\\\n",
              "\\textbf{}                        &           - 09-30-2023           & \\textbf{                     } &             \\\\\n",
              "\\textbf{Covariance Type:}        &               opg                & \\textbf{                     } &             \\\\\n",
              "\\bottomrule\n",
              "\\end{tabular}\n",
              "\\begin{tabular}{lcccccc}\n",
              "                  & \\textbf{coef} & \\textbf{std err} & \\textbf{z} & \\textbf{P$> |$z$|$} & \\textbf{[0.025} & \\textbf{0.975]}  \\\\\n",
              "\\midrule\n",
              "\\textbf{ar.L1}    &      -1.0943  &      112.226     &    -0.010  &         0.992        &     -221.054    &      218.865     \\\\\n",
              "\\textbf{ar.L2}    &      -0.0946  &       10.766     &    -0.009  &         0.993        &      -21.196    &       21.007     \\\\\n",
              "\\textbf{ma.L1}    &      -0.2568  &     1254.576     &    -0.000  &         1.000        &    -2459.180    &     2458.667     \\\\\n",
              "\\textbf{ma.L2}    &      -0.7431  &      932.282     &    -0.001  &         0.999        &    -1827.982    &     1826.496     \\\\\n",
              "\\textbf{ar.S.L12} &      -0.6450  &        0.778     &    -0.829  &         0.407        &       -2.170    &        0.880     \\\\\n",
              "\\textbf{ma.S.L12} &      -0.9976  &     1616.056     &    -0.001  &         1.000        &    -3168.409    &     3166.414     \\\\\n",
              "\\textbf{sigma2}   &       0.0156  &       30.879     &     0.001  &         1.000        &      -60.506    &       60.537     \\\\\n",
              "\\bottomrule\n",
              "\\end{tabular}\n",
              "\\begin{tabular}{lclc}\n",
              "\\textbf{Ljung-Box (L1) (Q):}     & 0.04 & \\textbf{  Jarque-Bera (JB):  } &  0.40  \\\\\n",
              "\\textbf{Prob(Q):}                & 0.84 & \\textbf{  Prob(JB):          } &  0.82  \\\\\n",
              "\\textbf{Heteroskedasticity (H):} & 0.92 & \\textbf{  Skew:              } & -0.22  \\\\\n",
              "\\textbf{Prob(H) (two-sided):}    & 0.90 & \\textbf{  Kurtosis:          } &  2.53  \\\\\n",
              "\\bottomrule\n",
              "\\end{tabular}\n",
              "%\\caption{SARIMAX Results}\n",
              "\\end{center}\n",
              "\n",
              "Warnings: \\newline\n",
              " [1] Covariance matrix calculated using the outer product of gradients (complex-step)."
            ],
            "text/plain": [
              "<class 'statsmodels.iolib.summary.Summary'>\n",
              "\"\"\"\n",
              "                                      SARIMAX Results                                       \n",
              "============================================================================================\n",
              "Dep. Variable:                               Prices   No. Observations:                   36\n",
              "Model:             SARIMAX(2, 1, 2)x(1, 1, [1], 12)   Log Likelihood                   0.167\n",
              "Date:                              Wed, 03 Jul 2024   AIC                             13.666\n",
              "Time:                                      01:34:34   BIC                             21.614\n",
              "Sample:                                  10-31-2020   HQIC                            15.665\n",
              "                                       - 09-30-2023                                         \n",
              "Covariance Type:                                opg                                         \n",
              "==============================================================================\n",
              "                 coef    std err          z      P>|z|      [0.025      0.975]\n",
              "------------------------------------------------------------------------------\n",
              "ar.L1         -1.0943    112.226     -0.010      0.992    -221.054     218.865\n",
              "ar.L2         -0.0946     10.766     -0.009      0.993     -21.196      21.007\n",
              "ma.L1         -0.2568   1254.576     -0.000      1.000   -2459.180    2458.667\n",
              "ma.L2         -0.7431    932.282     -0.001      0.999   -1827.982    1826.496\n",
              "ar.S.L12      -0.6450      0.778     -0.829      0.407      -2.170       0.880\n",
              "ma.S.L12      -0.9976   1616.056     -0.001      1.000   -3168.409    3166.414\n",
              "sigma2         0.0156     30.879      0.001      1.000     -60.506      60.537\n",
              "===================================================================================\n",
              "Ljung-Box (L1) (Q):                   0.04   Jarque-Bera (JB):                 0.40\n",
              "Prob(Q):                              0.84   Prob(JB):                         0.82\n",
              "Heteroskedasticity (H):               0.92   Skew:                            -0.22\n",
              "Prob(H) (two-sided):                  0.90   Kurtosis:                         2.53\n",
              "===================================================================================\n",
              "\n",
              "Warnings:\n",
              "[1] Covariance matrix calculated using the outer product of gradients (complex-step).\n",
              "\"\"\""
            ]
          },
          "execution_count": 36,
          "metadata": {},
          "output_type": "execute_result"
        }
      ],
      "source": [
        "arima_model = SARIMAX(train_data['Prices'], order = (2,1,2), seasonal_order = (1,1,1,12))\n",
        "arima_result = arima_model.fit()\n",
        "arima_result.summary()"
      ]
    },
    {
      "cell_type": "code",
      "execution_count": 37,
      "metadata": {
        "colab": {
          "base_uri": "https://localhost:8080/"
        },
        "id": "Ji_PcAF8wzGn",
        "outputId": "c9191765-6df5-4ce1-a9ba-e51d98fb08c5"
      },
      "outputs": [
        {
          "name": "stderr",
          "output_type": "stream",
          "text": [
            "/Users/shaunjoe/Documents/Git_Files/JPMorgan-Quantitative-Research/venv/lib/python3.9/site-packages/statsmodels/tsa/statespace/representation.py:374: FutureWarning: Unknown keyword arguments: dict_keys(['typ']).Passing unknown keyword arguments will raise a TypeError beginning in version 0.15.\n",
            "  warnings.warn(msg, FutureWarning)\n"
          ]
        },
        {
          "data": {
            "text/plain": [
              "2023-10-31    11.122827\n",
              "2023-11-30    12.294393\n",
              "2023-12-31    12.406417\n",
              "2024-01-31    12.669092\n",
              "2024-02-29    12.660210\n",
              "2024-03-31    12.667197\n",
              "2024-04-30    11.677898\n",
              "2024-05-31    11.728595\n",
              "2024-06-30    11.412150\n",
              "2024-07-31    11.637428\n",
              "2024-08-31    11.530194\n",
              "2024-09-30    11.863210\n",
              "Freq: M, Name: ARIMA Predictions, dtype: float64"
            ]
          },
          "execution_count": 37,
          "metadata": {},
          "output_type": "execute_result"
        }
      ],
      "source": [
        "arima_pred = arima_result.predict(start = len(train_data), end = len(Nat_gas_df)-1, typ=\"levels\").rename(\"ARIMA Predictions\")\n",
        "arima_pred"
      ]
    },
    {
      "cell_type": "code",
      "execution_count": 38,
      "metadata": {
        "colab": {
          "base_uri": "https://localhost:8080/",
          "height": 277
        },
        "id": "sWnuInatwzGo",
        "outputId": "33cfe0ad-91fa-4099-e710-931c9ca8d136"
      },
      "outputs": [
        {
          "data": {
            "image/png": "[encoded data removed]",
            "text/plain": [
              "<Figure size 1600x500 with 1 Axes>"
            ]
          },
          "metadata": {},
          "output_type": "display_data"
        }
      ],
      "source": [
        "test_data['Prices'].plot(figsize = (16,5), legend=True)\n",
        "arima_pred.plot(legend = True);"
      ]
    },
    {
      "cell_type": "code",
      "execution_count": 39,
      "metadata": {
        "colab": {
          "base_uri": "https://localhost:8080/",
          "height": 554
        },
        "id": "7M3PKR3uwzGo",
        "outputId": "99ad5ebb-1bd3-49e1-ab2e-70a38b9fe49a"
      },
      "outputs": [
        {
          "data": {
            "text/plain": [
              "<Axes: xlabel='Dates'>"
            ]
          },
          "execution_count": 39,
          "metadata": {},
          "output_type": "execute_result"
        },
        {
          "data": {
            "image/png": "[encoded data removed]",
            "text/plain": [
              "<Figure size 1200x800 with 1 Axes>"
            ]
          },
          "metadata": {},
          "output_type": "display_data"
        }
      ],
      "source": [
        "Nat_gas_df['forecast']=arima_result.predict(start=35,end=47,dynamic=True)\n",
        "Nat_gas_df[['Prices','forecast']].plot(figsize=(12,8))"
      ]
    },
    {
      "cell_type": "code",
      "execution_count": 40,
      "metadata": {
        "colab": {
          "base_uri": "https://localhost:8080/",
          "height": 452
        },
        "id": "ACqYs9xKwzGo",
        "outputId": "b35b8bf7-1389-41bf-ca1e-d64c891d1d9a"
      },
      "outputs": [
        {
          "data": {
            "text/html": [
              "<div>\n",
              "<style scoped>\n",
              "    .dataframe tbody tr th:only-of-type {\n",
              "        vertical-align: middle;\n",
              "    }\n",
              "\n",
              "    .dataframe tbody tr th {\n",
              "        vertical-align: top;\n",
              "    }\n",
              "\n",
              "    .dataframe thead th {\n",
              "        text-align: right;\n",
              "    }\n",
              "</style>\n",
              "<table border=\"1\" class=\"dataframe\">\n",
              "  <thead>\n",
              "    <tr style=\"text-align: right;\">\n",
              "      <th></th>\n",
              "      <th>Prices</th>\n",
              "      <th>forecast</th>\n",
              "    </tr>\n",
              "    <tr>\n",
              "      <th>Dates</th>\n",
              "      <th></th>\n",
              "      <th></th>\n",
              "    </tr>\n",
              "  </thead>\n",
              "  <tbody>\n",
              "    <tr>\n",
              "      <th>2023-10-31</th>\n",
              "      <td>11.8</td>\n",
              "      <td>11.146215</td>\n",
              "    </tr>\n",
              "    <tr>\n",
              "      <th>2023-11-30</th>\n",
              "      <td>12.2</td>\n",
              "      <td>12.255324</td>\n",
              "    </tr>\n",
              "    <tr>\n",
              "      <th>2023-12-31</th>\n",
              "      <td>12.8</td>\n",
              "      <td>12.420839</td>\n",
              "    </tr>\n",
              "    <tr>\n",
              "      <th>2024-01-31</th>\n",
              "      <td>12.6</td>\n",
              "      <td>12.632741</td>\n",
              "    </tr>\n",
              "    <tr>\n",
              "      <th>2024-02-29</th>\n",
              "      <td>12.4</td>\n",
              "      <td>12.672505</td>\n",
              "    </tr>\n",
              "    <tr>\n",
              "      <th>2024-03-31</th>\n",
              "      <td>12.7</td>\n",
              "      <td>12.632916</td>\n",
              "    </tr>\n",
              "    <tr>\n",
              "      <th>2024-04-30</th>\n",
              "      <td>12.1</td>\n",
              "      <td>11.688128</td>\n",
              "    </tr>\n",
              "    <tr>\n",
              "      <th>2024-05-31</th>\n",
              "      <td>11.4</td>\n",
              "      <td>11.696379</td>\n",
              "    </tr>\n",
              "    <tr>\n",
              "      <th>2024-06-30</th>\n",
              "      <td>11.5</td>\n",
              "      <td>11.420315</td>\n",
              "    </tr>\n",
              "    <tr>\n",
              "      <th>2024-07-31</th>\n",
              "      <td>11.6</td>\n",
              "      <td>11.607280</td>\n",
              "    </tr>\n",
              "    <tr>\n",
              "      <th>2024-08-31</th>\n",
              "      <td>11.5</td>\n",
              "      <td>11.536266</td>\n",
              "    </tr>\n",
              "    <tr>\n",
              "      <th>2024-09-30</th>\n",
              "      <td>11.8</td>\n",
              "      <td>11.860627</td>\n",
              "    </tr>\n",
              "  </tbody>\n",
              "</table>\n",
              "</div>"
            ],
            "text/plain": [
              "            Prices   forecast\n",
              "Dates                        \n",
              "2023-10-31    11.8  11.146215\n",
              "2023-11-30    12.2  12.255324\n",
              "2023-12-31    12.8  12.420839\n",
              "2024-01-31    12.6  12.632741\n",
              "2024-02-29    12.4  12.672505\n",
              "2024-03-31    12.7  12.632916\n",
              "2024-04-30    12.1  11.688128\n",
              "2024-05-31    11.4  11.696379\n",
              "2024-06-30    11.5  11.420315\n",
              "2024-07-31    11.6  11.607280\n",
              "2024-08-31    11.5  11.536266\n",
              "2024-09-30    11.8  11.860627"
            ]
          },
          "execution_count": 40,
          "metadata": {},
          "output_type": "execute_result"
        }
      ],
      "source": [
        "Nat_gas_df.tail(12)"
      ]
    },
    {
      "cell_type": "code",
      "execution_count": 41,
      "metadata": {
        "colab": {
          "base_uri": "https://localhost:8080/"
        },
        "id": "zdmTgeiSwzGp",
        "outputId": "896453fc-f2cb-4987-f529-80752656cc08"
      },
      "outputs": [
        {
          "name": "stderr",
          "output_type": "stream",
          "text": [
            "/var/folders/18/r7sww6y93kj763sccggn9hzm0000gn/T/ipykernel_49464/3839166069.py:1: SettingWithCopyWarning: \n",
            "A value is trying to be set on a copy of a slice from a DataFrame.\n",
            "Try using .loc[row_indexer,col_indexer] = value instead\n",
            "\n",
            "See the caveats in the documentation: https://pandas.pydata.org/pandas-docs/stable/user_guide/indexing.html#returning-a-view-versus-a-copy\n",
            "  test_data['ARIMA_Predictions'] = arima_pred\n"
          ]
        }
      ],
      "source": [
        "test_data['ARIMA_Predictions'] = arima_pred"
      ]
    },
    {
      "cell_type": "code",
      "execution_count": 42,
      "metadata": {
        "colab": {
          "base_uri": "https://localhost:8080/",
          "height": 452
        },
        "id": "IMRMY2V-wzGp",
        "outputId": "e1d7e174-1ca4-4f4a-fa92-cc1ff1f09669"
      },
      "outputs": [
        {
          "data": {
            "text/html": [
              "<div>\n",
              "<style scoped>\n",
              "    .dataframe tbody tr th:only-of-type {\n",
              "        vertical-align: middle;\n",
              "    }\n",
              "\n",
              "    .dataframe tbody tr th {\n",
              "        vertical-align: top;\n",
              "    }\n",
              "\n",
              "    .dataframe thead th {\n",
              "        text-align: right;\n",
              "    }\n",
              "</style>\n",
              "<table border=\"1\" class=\"dataframe\">\n",
              "  <thead>\n",
              "    <tr style=\"text-align: right;\">\n",
              "      <th></th>\n",
              "      <th>Prices</th>\n",
              "      <th>ARIMA_Predictions</th>\n",
              "    </tr>\n",
              "    <tr>\n",
              "      <th>Dates</th>\n",
              "      <th></th>\n",
              "      <th></th>\n",
              "    </tr>\n",
              "  </thead>\n",
              "  <tbody>\n",
              "    <tr>\n",
              "      <th>2023-10-31</th>\n",
              "      <td>11.8</td>\n",
              "      <td>11.122827</td>\n",
              "    </tr>\n",
              "    <tr>\n",
              "      <th>2023-11-30</th>\n",
              "      <td>12.2</td>\n",
              "      <td>12.294393</td>\n",
              "    </tr>\n",
              "    <tr>\n",
              "      <th>2023-12-31</th>\n",
              "      <td>12.8</td>\n",
              "      <td>12.406417</td>\n",
              "    </tr>\n",
              "    <tr>\n",
              "      <th>2024-01-31</th>\n",
              "      <td>12.6</td>\n",
              "      <td>12.669092</td>\n",
              "    </tr>\n",
              "    <tr>\n",
              "      <th>2024-02-29</th>\n",
              "      <td>12.4</td>\n",
              "      <td>12.660210</td>\n",
              "    </tr>\n",
              "    <tr>\n",
              "      <th>2024-03-31</th>\n",
              "      <td>12.7</td>\n",
              "      <td>12.667197</td>\n",
              "    </tr>\n",
              "    <tr>\n",
              "      <th>2024-04-30</th>\n",
              "      <td>12.1</td>\n",
              "      <td>11.677898</td>\n",
              "    </tr>\n",
              "    <tr>\n",
              "      <th>2024-05-31</th>\n",
              "      <td>11.4</td>\n",
              "      <td>11.728595</td>\n",
              "    </tr>\n",
              "    <tr>\n",
              "      <th>2024-06-30</th>\n",
              "      <td>11.5</td>\n",
              "      <td>11.412150</td>\n",
              "    </tr>\n",
              "    <tr>\n",
              "      <th>2024-07-31</th>\n",
              "      <td>11.6</td>\n",
              "      <td>11.637428</td>\n",
              "    </tr>\n",
              "    <tr>\n",
              "      <th>2024-08-31</th>\n",
              "      <td>11.5</td>\n",
              "      <td>11.530194</td>\n",
              "    </tr>\n",
              "    <tr>\n",
              "      <th>2024-09-30</th>\n",
              "      <td>11.8</td>\n",
              "      <td>11.863210</td>\n",
              "    </tr>\n",
              "  </tbody>\n",
              "</table>\n",
              "</div>"
            ],
            "text/plain": [
              "            Prices  ARIMA_Predictions\n",
              "Dates                                \n",
              "2023-10-31    11.8          11.122827\n",
              "2023-11-30    12.2          12.294393\n",
              "2023-12-31    12.8          12.406417\n",
              "2024-01-31    12.6          12.669092\n",
              "2024-02-29    12.4          12.660210\n",
              "2024-03-31    12.7          12.667197\n",
              "2024-04-30    12.1          11.677898\n",
              "2024-05-31    11.4          11.728595\n",
              "2024-06-30    11.5          11.412150\n",
              "2024-07-31    11.6          11.637428\n",
              "2024-08-31    11.5          11.530194\n",
              "2024-09-30    11.8          11.863210"
            ]
          },
          "execution_count": 42,
          "metadata": {},
          "output_type": "execute_result"
        }
      ],
      "source": [
        "test_data"
      ]
    },
    {
      "cell_type": "code",
      "execution_count": 43,
      "metadata": {
        "id": "Rvq1kmp4wzGp"
      },
      "outputs": [],
      "source": [
        "from sklearn.metrics import mean_squared_error\n",
        "from statsmodels.tools.eval_measures import rmse"
      ]
    },
    {
      "cell_type": "code",
      "execution_count": 44,
      "metadata": {
        "colab": {
          "base_uri": "https://localhost:8080/"
        },
        "id": "RsWDLysUwzGp",
        "outputId": "6952142b-14db-48e7-cd5f-ae4f615574ab"
      },
      "outputs": [
        {
          "name": "stdout",
          "output_type": "stream",
          "text": [
            "MSE Error: 0.08300922583151396\n",
            "RMSE Error: 0.28811321703718135\n",
            "Mean: 11.207083333333332\n"
          ]
        }
      ],
      "source": [
        "arima_rmse_error = rmse(test_data['Prices'], arima_pred)\n",
        "arima_mse_error = arima_rmse_error**2\n",
        "mean_value = Nat_gas_df['Prices'].mean()\n",
        "\n",
        "print(f'MSE Error: {arima_mse_error}\\nRMSE Error: {arima_rmse_error}\\nMean: {mean_value}')"
      ]
    },
    {
      "cell_type": "markdown",
      "metadata": {
        "id": "uOCauPMowzGp"
      },
      "source": [
        "# Run entire code after entering date"
      ]
    },
    {
      "cell_type": "code",
      "execution_count": 45,
      "metadata": {
        "colab": {
          "base_uri": "https://localhost:8080/"
        },
        "id": "J2aBXFyMwzGp",
        "outputId": "c54343c6-67ff-4cf9-f3bd-d03cd3fad834"
      },
      "outputs": [
        {
          "name": "stderr",
          "output_type": "stream",
          "text": [
            "/Users/shaunjoe/Documents/Git_Files/JPMorgan-Quantitative-Research/venv/lib/python3.9/site-packages/statsmodels/tsa/statespace/representation.py:374: FutureWarning: Unknown keyword arguments: dict_keys(['typ']).Passing unknown keyword arguments will raise a TypeError beginning in version 0.15.\n",
            "  warnings.warn(msg, FutureWarning)\n"
          ]
        }
      ],
      "source": [
        "arima_pred_full = arima_result.predict(start = 0, end = len(Nat_gas_df)-1, typ=\"levels\").rename(\"ARIMA Predictions\")"
      ]
    },
    {
      "cell_type": "code",
      "execution_count": 46,
      "metadata": {
        "colab": {
          "base_uri": "https://localhost:8080/"
        },
        "id": "jqkYvVdDwzGq",
        "outputId": "62c0b74c-3af8-4d98-9303-915f260ae530"
      },
      "outputs": [
        {
          "data": {
            "text/plain": [
              "11.728594607048446"
            ]
          },
          "execution_count": 46,
          "metadata": {},
          "output_type": "execute_result"
        }
      ],
      "source": [
        "#enter Month and year in following format 'yyyy/mm/dd' -- KEEP day at end of the month AND THEN Run the ENTIRE code\n",
        "#example : userdate = 2024-05-31\n",
        "userdate = '2024-05-31'\n",
        "arima_pred_full.loc[userdate]"
      ]
    },
    {
      "cell_type": "code",
      "execution_count": 47,
      "metadata": {
        "colab": {
          "base_uri": "https://localhost:8080/"
        },
        "id": "zcgubR42wzGq",
        "outputId": "0c1531d1-d7aa-4526-ab96-59c71f3b477a"
      },
      "outputs": [
        {
          "data": {
            "text/plain": [
              "11.4"
            ]
          },
          "execution_count": 47,
          "metadata": {},
          "output_type": "execute_result"
        }
      ],
      "source": [
        "# Actual Price\n",
        "Nat_gas_df.loc[userdate]['Prices']"
      ]
    },
    {
      "cell_type": "markdown",
      "metadata": {
        "id": "JWi-5IMgwzGq"
      },
      "source": [
        "# Extrapolate 1 year in the future"
      ]
    },
    {
      "cell_type": "code",
      "execution_count": 48,
      "metadata": {
        "id": "PZgKeMN9wzGq"
      },
      "outputs": [],
      "source": [
        "#enter Month and year in following format 'yyyy/mm/dd' -- KEEP day at end of the month AND THEN Run the ENTIRE code\n",
        "#example : userdate = 2024-05-31\n",
        "userdate = '2020-12-31'\n",
        "start = Nat_gas_df.index.get_loc(userdate)\n",
        "arima_pred_future = arima_result.predict(start = start, end = start+12, typ=\"levels\").rename(\"ARIMA Predictions\")"
      ]
    },
    {
      "cell_type": "code",
      "execution_count": 49,
      "metadata": {
        "colab": {
          "base_uri": "https://localhost:8080/"
        },
        "id": "kde1wpGcwzGq",
        "outputId": "2220abda-80e5-4ed0-8b0b-6a7288c74923"
      },
      "outputs": [
        {
          "data": {
            "text/plain": [
              "2021-12-31    11.270167\n",
              "Freq: M, Name: ARIMA Predictions, dtype: float64"
            ]
          },
          "execution_count": 49,
          "metadata": {},
          "output_type": "execute_result"
        }
      ],
      "source": [
        "arima_pred_future.tail(1)"
      ]
    },
    {
      "cell_type": "code",
      "execution_count": 50,
      "metadata": {
        "colab": {
          "base_uri": "https://localhost:8080/"
        },
        "id": "HfrPrCM2wzGq",
        "outputId": "5ab46f9b-1de3-4b19-884b-b8f03bfae728"
      },
      "outputs": [
        {
          "data": {
            "text/plain": [
              "Prices      11.4\n",
              "forecast     NaN\n",
              "Name: 2021-12-31 00:00:00, dtype: float64"
            ]
          },
          "execution_count": 50,
          "metadata": {},
          "output_type": "execute_result"
        }
      ],
      "source": [
        "# Actual Price in next 12 months\n",
        "Nat_gas_df.iloc[start+12]"
      ]
    },
    {
      "cell_type": "markdown",
      "metadata": {
        "id": "rCSrAs4mwzGq"
      },
      "source": [
        "# Forecasting using Prophet"
      ]
    },
    {
      "cell_type": "code",
      "execution_count": 51,
      "metadata": {
        "id": "q8DDwRvywzGq"
      },
      "outputs": [
        {
          "name": "stderr",
          "output_type": "stream",
          "text": [
            "/Users/shaunjoe/Documents/Git_Files/JPMorgan-Quantitative-Research/venv/lib/python3.9/site-packages/tqdm/auto.py:21: TqdmWarning: IProgress not found. Please update jupyter and ipywidgets. See https://ipywidgets.readthedocs.io/en/stable/user_install.html\n",
            "  from .autonotebook import tqdm as notebook_tqdm\n",
            "Importing plotly failed. Interactive plots will not work.\n"
          ]
        }
      ],
      "source": [
        "from prophet import Prophet\n",
        "from prophet.plot import plot_plotly, plot_components_plotly"
      ]
    },
    {
      "cell_type": "code",
      "execution_count": 52,
      "metadata": {
        "colab": {
          "base_uri": "https://localhost:8080/",
          "height": 204
        },
        "id": "Xt8JZTEwwzGq",
        "outputId": "c9ef92d5-c281-40a0-a338-2f60da0c9bef"
      },
      "outputs": [
        {
          "data": {
            "text/html": [
              "<div>\n",
              "<style scoped>\n",
              "    .dataframe tbody tr th:only-of-type {\n",
              "        vertical-align: middle;\n",
              "    }\n",
              "\n",
              "    .dataframe tbody tr th {\n",
              "        vertical-align: top;\n",
              "    }\n",
              "\n",
              "    .dataframe thead th {\n",
              "        text-align: right;\n",
              "    }\n",
              "</style>\n",
              "<table border=\"1\" class=\"dataframe\">\n",
              "  <thead>\n",
              "    <tr style=\"text-align: right;\">\n",
              "      <th></th>\n",
              "      <th>Dates</th>\n",
              "      <th>Prices</th>\n",
              "    </tr>\n",
              "  </thead>\n",
              "  <tbody>\n",
              "    <tr>\n",
              "      <th>0</th>\n",
              "      <td>10/31/20</td>\n",
              "      <td>10.1</td>\n",
              "    </tr>\n",
              "    <tr>\n",
              "      <th>1</th>\n",
              "      <td>11/30/20</td>\n",
              "      <td>10.3</td>\n",
              "    </tr>\n",
              "    <tr>\n",
              "      <th>2</th>\n",
              "      <td>12/31/20</td>\n",
              "      <td>11.0</td>\n",
              "    </tr>\n",
              "    <tr>\n",
              "      <th>3</th>\n",
              "      <td>1/31/21</td>\n",
              "      <td>10.9</td>\n",
              "    </tr>\n",
              "    <tr>\n",
              "      <th>4</th>\n",
              "      <td>2/28/21</td>\n",
              "      <td>10.9</td>\n",
              "    </tr>\n",
              "  </tbody>\n",
              "</table>\n",
              "</div>"
            ],
            "text/plain": [
              "      Dates  Prices\n",
              "0  10/31/20    10.1\n",
              "1  11/30/20    10.3\n",
              "2  12/31/20    11.0\n",
              "3   1/31/21    10.9\n",
              "4   2/28/21    10.9"
            ]
          },
          "execution_count": 52,
          "metadata": {},
          "output_type": "execute_result"
        }
      ],
      "source": [
        "#read in the data\n",
        "df = pd.read_csv('Nat_Gas.csv')\n",
        "df.head()"
      ]
    },
    {
      "cell_type": "code",
      "execution_count": 53,
      "metadata": {
        "colab": {
          "base_uri": "https://localhost:8080/",
          "height": 204
        },
        "id": "N4ZSDwQTwzGr",
        "outputId": "2f232f99-41e0-409d-c206-0f0e8ddb9355"
      },
      "outputs": [
        {
          "data": {
            "text/html": [
              "<div>\n",
              "<style scoped>\n",
              "    .dataframe tbody tr th:only-of-type {\n",
              "        vertical-align: middle;\n",
              "    }\n",
              "\n",
              "    .dataframe tbody tr th {\n",
              "        vertical-align: top;\n",
              "    }\n",
              "\n",
              "    .dataframe thead th {\n",
              "        text-align: right;\n",
              "    }\n",
              "</style>\n",
              "<table border=\"1\" class=\"dataframe\">\n",
              "  <thead>\n",
              "    <tr style=\"text-align: right;\">\n",
              "      <th></th>\n",
              "      <th>ds</th>\n",
              "      <th>y</th>\n",
              "    </tr>\n",
              "  </thead>\n",
              "  <tbody>\n",
              "    <tr>\n",
              "      <th>0</th>\n",
              "      <td>10/31/20</td>\n",
              "      <td>10.1</td>\n",
              "    </tr>\n",
              "    <tr>\n",
              "      <th>1</th>\n",
              "      <td>11/30/20</td>\n",
              "      <td>10.3</td>\n",
              "    </tr>\n",
              "    <tr>\n",
              "      <th>2</th>\n",
              "      <td>12/31/20</td>\n",
              "      <td>11.0</td>\n",
              "    </tr>\n",
              "    <tr>\n",
              "      <th>3</th>\n",
              "      <td>1/31/21</td>\n",
              "      <td>10.9</td>\n",
              "    </tr>\n",
              "    <tr>\n",
              "      <th>4</th>\n",
              "      <td>2/28/21</td>\n",
              "      <td>10.9</td>\n",
              "    </tr>\n",
              "  </tbody>\n",
              "</table>\n",
              "</div>"
            ],
            "text/plain": [
              "         ds     y\n",
              "0  10/31/20  10.1\n",
              "1  11/30/20  10.3\n",
              "2  12/31/20  11.0\n",
              "3   1/31/21  10.9\n",
              "4   2/28/21  10.9"
            ]
          },
          "execution_count": 53,
          "metadata": {},
          "output_type": "execute_result"
        }
      ],
      "source": [
        "#Select the date and the price\n",
        "df = df[['Dates', 'Prices']]\n",
        "#Rename the features:\n",
        "df = df.rename(columns={'Dates':'ds', 'Prices':'y'})\n",
        "df.head()"
      ]
    },
    {
      "cell_type": "code",
      "execution_count": 54,
      "metadata": {
        "colab": {
          "base_uri": "https://localhost:8080/",
          "height": 421
        },
        "id": "qQBU8R8twzGr",
        "outputId": "6eb66585-6339-464b-da4d-2f86e11efa13"
      },
      "outputs": [
        {
          "data": {
            "text/html": [
              "<div>\n",
              "<style scoped>\n",
              "    .dataframe tbody tr th:only-of-type {\n",
              "        vertical-align: middle;\n",
              "    }\n",
              "\n",
              "    .dataframe tbody tr th {\n",
              "        vertical-align: top;\n",
              "    }\n",
              "\n",
              "    .dataframe thead th {\n",
              "        text-align: right;\n",
              "    }\n",
              "</style>\n",
              "<table border=\"1\" class=\"dataframe\">\n",
              "  <thead>\n",
              "    <tr style=\"text-align: right;\">\n",
              "      <th></th>\n",
              "      <th>ds</th>\n",
              "      <th>y</th>\n",
              "    </tr>\n",
              "  </thead>\n",
              "  <tbody>\n",
              "    <tr>\n",
              "      <th>36</th>\n",
              "      <td>10/31/23</td>\n",
              "      <td>11.8</td>\n",
              "    </tr>\n",
              "    <tr>\n",
              "      <th>37</th>\n",
              "      <td>11/30/23</td>\n",
              "      <td>12.2</td>\n",
              "    </tr>\n",
              "    <tr>\n",
              "      <th>38</th>\n",
              "      <td>12/31/23</td>\n",
              "      <td>12.8</td>\n",
              "    </tr>\n",
              "    <tr>\n",
              "      <th>39</th>\n",
              "      <td>1/31/24</td>\n",
              "      <td>12.6</td>\n",
              "    </tr>\n",
              "    <tr>\n",
              "      <th>40</th>\n",
              "      <td>2/29/24</td>\n",
              "      <td>12.4</td>\n",
              "    </tr>\n",
              "    <tr>\n",
              "      <th>41</th>\n",
              "      <td>3/31/24</td>\n",
              "      <td>12.7</td>\n",
              "    </tr>\n",
              "    <tr>\n",
              "      <th>42</th>\n",
              "      <td>4/30/24</td>\n",
              "      <td>12.1</td>\n",
              "    </tr>\n",
              "    <tr>\n",
              "      <th>43</th>\n",
              "      <td>5/31/24</td>\n",
              "      <td>11.4</td>\n",
              "    </tr>\n",
              "    <tr>\n",
              "      <th>44</th>\n",
              "      <td>6/30/24</td>\n",
              "      <td>11.5</td>\n",
              "    </tr>\n",
              "    <tr>\n",
              "      <th>45</th>\n",
              "      <td>7/31/24</td>\n",
              "      <td>11.6</td>\n",
              "    </tr>\n",
              "    <tr>\n",
              "      <th>46</th>\n",
              "      <td>8/31/24</td>\n",
              "      <td>11.5</td>\n",
              "    </tr>\n",
              "    <tr>\n",
              "      <th>47</th>\n",
              "      <td>9/30/24</td>\n",
              "      <td>11.8</td>\n",
              "    </tr>\n",
              "  </tbody>\n",
              "</table>\n",
              "</div>"
            ],
            "text/plain": [
              "          ds     y\n",
              "36  10/31/23  11.8\n",
              "37  11/30/23  12.2\n",
              "38  12/31/23  12.8\n",
              "39   1/31/24  12.6\n",
              "40   2/29/24  12.4\n",
              "41   3/31/24  12.7\n",
              "42   4/30/24  12.1\n",
              "43   5/31/24  11.4\n",
              "44   6/30/24  11.5\n",
              "45   7/31/24  11.6\n",
              "46   8/31/24  11.5\n",
              "47   9/30/24  11.8"
            ]
          },
          "execution_count": 54,
          "metadata": {},
          "output_type": "execute_result"
        }
      ],
      "source": [
        "# Get last 12 rows of data and store them into a new variable\n",
        "last = df[len(df)-12:]\n",
        "last"
      ]
    },
    {
      "cell_type": "code",
      "execution_count": 55,
      "metadata": {
        "colab": {
          "base_uri": "https://localhost:8080/",
          "height": 204
        },
        "id": "eydDzawIwzGr",
        "outputId": "887ba309-a837-4b73-f1c5-d4e36e8f871d"
      },
      "outputs": [
        {
          "data": {
            "text/html": [
              "<div>\n",
              "<style scoped>\n",
              "    .dataframe tbody tr th:only-of-type {\n",
              "        vertical-align: middle;\n",
              "    }\n",
              "\n",
              "    .dataframe tbody tr th {\n",
              "        vertical-align: top;\n",
              "    }\n",
              "\n",
              "    .dataframe thead th {\n",
              "        text-align: right;\n",
              "    }\n",
              "</style>\n",
              "<table border=\"1\" class=\"dataframe\">\n",
              "  <thead>\n",
              "    <tr style=\"text-align: right;\">\n",
              "      <th></th>\n",
              "      <th>ds</th>\n",
              "      <th>y</th>\n",
              "    </tr>\n",
              "  </thead>\n",
              "  <tbody>\n",
              "    <tr>\n",
              "      <th>0</th>\n",
              "      <td>10/31/20</td>\n",
              "      <td>10.1</td>\n",
              "    </tr>\n",
              "    <tr>\n",
              "      <th>1</th>\n",
              "      <td>11/30/20</td>\n",
              "      <td>10.3</td>\n",
              "    </tr>\n",
              "    <tr>\n",
              "      <th>2</th>\n",
              "      <td>12/31/20</td>\n",
              "      <td>11.0</td>\n",
              "    </tr>\n",
              "    <tr>\n",
              "      <th>3</th>\n",
              "      <td>1/31/21</td>\n",
              "      <td>10.9</td>\n",
              "    </tr>\n",
              "    <tr>\n",
              "      <th>4</th>\n",
              "      <td>2/28/21</td>\n",
              "      <td>10.9</td>\n",
              "    </tr>\n",
              "  </tbody>\n",
              "</table>\n",
              "</div>"
            ],
            "text/plain": [
              "         ds     y\n",
              "0  10/31/20  10.1\n",
              "1  11/30/20  10.3\n",
              "2  12/31/20  11.0\n",
              "3   1/31/21  10.9\n",
              "4   2/28/21  10.9"
            ]
          },
          "execution_count": 55,
          "metadata": {},
          "output_type": "execute_result"
        }
      ],
      "source": [
        "#Get all rows except the last 12\n",
        "df = df[:-12]\n",
        "df.head()"
      ]
    },
    {
      "cell_type": "code",
      "execution_count": 56,
      "metadata": {
        "colab": {
          "base_uri": "https://localhost:8080/",
          "height": 1000,
          "referenced_widgets": [
            "550f439fbe4545d28ee4be3524afcf11",
            "4b16cf93c1f64af3995013a0c110e0e8",
            "eb4de05b1e21445986ae1a9f1367d2d7",
            "de6f0c904785466c8fccfcf02d711b54",
            "3ea74f5786464a4e88cf1f60fdb44ad8",
            "7070120488bf42a19001b999cc4b4682",
            "71e9d220ef014924abd2112f0e8e64ee",
            "797975f6e9394154973237b9a2a7f8db",
            "1dc8fda1a1634e66bac6caf3b957b57b",
            "e190e834639b40f18a1d58e6543f1681",
            "40076fcde2dd4de4996d7dbfeb644951",
            "9a6ee9f70364499daa9417500a50faf3",
            "819d504a033a403899ab6a761bfda29e",
            "9b243926572d4b49a4f887682940cfa3",
            "f2f20334f5da40a49200be7893d5bffb",
            "aea68f94b8424f5997ef6d109ad9f967",
            "76584dd06ac1414093bf8c192ad560cb",
            "c4f2d046d7304ea7bef35e839a0bc77f",
            "6272dced782f41358b0831ef2aa1e8c7",
            "32e0c53de5524912b70e4b593e4a870d",
            "2bb19dc110994cb3b0e9b4f8f5325e8e",
            "805097bb97c64ec3a96a0a0394665225",
            "25ad01fbb65c4ab89ab8a110e95708ed",
            "f5e093062f444d75bfffa57811e148bc",
            "43ff02ffd7454b4ca1c8f10d32bab312",
            "ab938a42abfc4216bfcb2c78d50635df",
            "90208a3527304d1caccf6b330f8f96c5",
            "b3d38a9e8f8c45999b1d2ecf415e150a",
            "f1aca0e5313d445fa604805e6e131d06",
            "b5b7ea829de449cfab49140d7bd043a1",
            "babfdcb5125a43748e7dea6e4cf4c99f",
            "175612f3f2d74e5f9627fd8f6661e002",
            "fde15a1da9d4482893eb64bc63079369",
            "f5febd903057430191dfbb17e95c703c",
            "4a1e2a59b08c4f1ebd429cdb79da9a78",
            "8e26bf82c24240c8bcc15a7db3535141",
            "969d931549da48cd8f2e111273dd36a0",
            "bbafc4caed99458ba195ef5d3233a1c5",
            "e0ebd15051da4e118bbfeca8abe49faa",
            "0288f014d59943d6a585c1493062d01f",
            "5df4a14f56a847feb2816b971028a1bc",
            "66037e52fd17492b9d064ead9e7c7f39",
            "57ff5768ddd345dc8c16a0c5f2d892cb",
            "ac8624bac5e14f1eb37c5874a64b32da"
          ]
        },
        "id": "7wy4lWsawzGr",
        "outputId": "a5b18ed7-dbdb-4803-f1e6-edae87ea95be"
      },
      "outputs": [
        {
          "name": "stderr",
          "output_type": "stream",
          "text": [
            "/Users/shaunjoe/Documents/Git_Files/JPMorgan-Quantitative-Research/venv/lib/python3.9/site-packages/prophet/forecaster.py:1133: UserWarning: Could not infer format, so each element will be parsed individually, falling back to `dateutil`. To ensure parsing is consistent and as-expected, please specify a format.\n",
            "  self.history_dates = pd.to_datetime(pd.Series(history['ds'].unique(), name='ds')).sort_values()\n",
            "/Users/shaunjoe/Documents/Git_Files/JPMorgan-Quantitative-Research/venv/lib/python3.9/site-packages/prophet/forecaster.py:287: UserWarning: Could not infer format, so each element will be parsed individually, falling back to `dateutil`. To ensure parsing is consistent and as-expected, please specify a format.\n",
            "  df['ds'] = pd.to_datetime(df['ds'])\n",
            "01:34:35 - cmdstanpy - INFO - CmdStan start processing\n",
            "chain 1 |\u001b[33m          \u001b[0m| 00:00 Status\n",
            "\u001b[A\n",
            "\n",
            "\u001b[A\u001b[A\n",
            "chain 1 |\u001b[33m████      \u001b[0m| 00:00 Iteration:   1 / 360 [  0%]  (Warmup)\n",
            "\n",
            "chain 1 |\u001b[34m██████    \u001b[0m| 00:01 Iteration: 100 / 360 [ 27%]  (Warmup)\n",
            "\n",
            "\u001b[A\u001b[A\n",
            "chain 1 |\u001b[34m████████  \u001b[0m| 00:01 Iteration: 181 / 360 [ 50%]  (Sampling)\n",
            "\n",
            "\u001b[A\u001b[A\n",
            "chain 1 |\u001b[34m██████████\u001b[0m| 00:01 Iteration: 280 / 360 [ 77%]  (Sampling)\n",
            "\n",
            "\u001b[A\u001b[A\n",
            "chain 1 |\u001b[34m██████████\u001b[0m| 00:01 Sampling completed                     \n",
            "chain 2 |\u001b[34m██████████\u001b[0m| 00:01 Sampling completed                     \n",
            "chain 3 |\u001b[34m██████████\u001b[0m| 00:01 Sampling completed                     \n",
            "chain 4 |\u001b[34m██████████\u001b[0m| 00:01 Sampling completed                     "
          ]
        },
        {
          "name": "stdout",
          "output_type": "stream",
          "text": [
            "                                                                                                                                                                                                                                                                                                                                "
          ]
        },
        {
          "name": "stderr",
          "output_type": "stream",
          "text": [
            "\n",
            "01:34:37 - cmdstanpy - INFO - CmdStan done processing.\n",
            "01:34:37 - cmdstanpy - WARNING - Non-fatal error during sampling:\n",
            "Exception: normal_id_glm_lpdf: Scale vector is inf, but must be positive finite! (in 'prophet.stan', line 137, column 2 to line 142, column 4)\n",
            "Exception: normal_id_glm_lpdf: Scale vector is 0, but must be positive finite! (in 'prophet.stan', line 137, column 2 to line 142, column 4)\n",
            "Exception: normal_id_glm_lpdf: Scale vector is 0, but must be positive finite! (in 'prophet.stan', line 137, column 2 to line 142, column 4)\n",
            "Consider re-running with show_console=True if the above output is unclear!\n"
          ]
        },
        {
          "name": "stdout",
          "output_type": "stream",
          "text": [
            "\n"
          ]
        }
      ],
      "source": [
        "#Creating Prophet Object (Model)\n",
        "fbp = Prophet(seasonality_mode='multiplicative', mcmc_samples=360)\n",
        "\n",
        "#Train the model\n",
        "fbp.fit(df)\n",
        "future = fbp.make_future_dataframe(periods=24, freq='M')\n",
        "forecast = fbp.predict(future)"
      ]
    },
    {
      "cell_type": "code",
      "execution_count": 57,
      "metadata": {
        "colab": {
          "base_uri": "https://localhost:8080/",
          "height": 789
        },
        "id": "zz8KAoHbwzGr",
        "outputId": "a71269ee-32e2-4078-b817-c3b9d657d2a8"
      },
      "outputs": [
        {
          "data": {
            "text/html": [
              "<div>\n",
              "<style scoped>\n",
              "    .dataframe tbody tr th:only-of-type {\n",
              "        vertical-align: middle;\n",
              "    }\n",
              "\n",
              "    .dataframe tbody tr th {\n",
              "        vertical-align: top;\n",
              "    }\n",
              "\n",
              "    .dataframe thead th {\n",
              "        text-align: right;\n",
              "    }\n",
              "</style>\n",
              "<table border=\"1\" class=\"dataframe\">\n",
              "  <thead>\n",
              "    <tr style=\"text-align: right;\">\n",
              "      <th></th>\n",
              "      <th>ds</th>\n",
              "      <th>trend</th>\n",
              "      <th>yhat_lower</th>\n",
              "      <th>yhat_upper</th>\n",
              "      <th>trend_lower</th>\n",
              "      <th>trend_upper</th>\n",
              "      <th>multiplicative_terms</th>\n",
              "      <th>multiplicative_terms_lower</th>\n",
              "      <th>multiplicative_terms_upper</th>\n",
              "      <th>yearly</th>\n",
              "      <th>yearly_lower</th>\n",
              "      <th>yearly_upper</th>\n",
              "      <th>additive_terms</th>\n",
              "      <th>additive_terms_lower</th>\n",
              "      <th>additive_terms_upper</th>\n",
              "      <th>yhat</th>\n",
              "    </tr>\n",
              "  </thead>\n",
              "  <tbody>\n",
              "    <tr>\n",
              "      <th>45</th>\n",
              "      <td>2024-07-31</td>\n",
              "      <td>12.508796</td>\n",
              "      <td>11.119756</td>\n",
              "      <td>12.605196</td>\n",
              "      <td>11.952536</td>\n",
              "      <td>13.075054</td>\n",
              "      <td>-0.051102</td>\n",
              "      <td>-0.087483</td>\n",
              "      <td>-0.012164</td>\n",
              "      <td>-0.051102</td>\n",
              "      <td>-0.087483</td>\n",
              "      <td>-0.012164</td>\n",
              "      <td>0.0</td>\n",
              "      <td>0.0</td>\n",
              "      <td>0.0</td>\n",
              "      <td>11.869568</td>\n",
              "    </tr>\n",
              "    <tr>\n",
              "      <th>46</th>\n",
              "      <td>2024-08-31</td>\n",
              "      <td>12.576562</td>\n",
              "      <td>11.566466</td>\n",
              "      <td>13.172178</td>\n",
              "      <td>11.956644</td>\n",
              "      <td>13.188185</td>\n",
              "      <td>-0.016026</td>\n",
              "      <td>-0.054059</td>\n",
              "      <td>0.020335</td>\n",
              "      <td>-0.016026</td>\n",
              "      <td>-0.054059</td>\n",
              "      <td>0.020335</td>\n",
              "      <td>0.0</td>\n",
              "      <td>0.0</td>\n",
              "      <td>0.0</td>\n",
              "      <td>12.375012</td>\n",
              "    </tr>\n",
              "    <tr>\n",
              "      <th>47</th>\n",
              "      <td>2024-09-30</td>\n",
              "      <td>12.642141</td>\n",
              "      <td>11.144608</td>\n",
              "      <td>12.909410</td>\n",
              "      <td>11.944974</td>\n",
              "      <td>13.310624</td>\n",
              "      <td>-0.045654</td>\n",
              "      <td>-0.080037</td>\n",
              "      <td>-0.013552</td>\n",
              "      <td>-0.045654</td>\n",
              "      <td>-0.080037</td>\n",
              "      <td>-0.013552</td>\n",
              "      <td>0.0</td>\n",
              "      <td>0.0</td>\n",
              "      <td>0.0</td>\n",
              "      <td>12.064973</td>\n",
              "    </tr>\n",
              "    <tr>\n",
              "      <th>48</th>\n",
              "      <td>2024-10-31</td>\n",
              "      <td>12.709906</td>\n",
              "      <td>11.513985</td>\n",
              "      <td>13.140601</td>\n",
              "      <td>11.957024</td>\n",
              "      <td>13.441442</td>\n",
              "      <td>-0.029360</td>\n",
              "      <td>-0.054454</td>\n",
              "      <td>-0.005340</td>\n",
              "      <td>-0.029360</td>\n",
              "      <td>-0.054454</td>\n",
              "      <td>-0.005340</td>\n",
              "      <td>0.0</td>\n",
              "      <td>0.0</td>\n",
              "      <td>0.0</td>\n",
              "      <td>12.336744</td>\n",
              "    </tr>\n",
              "    <tr>\n",
              "      <th>49</th>\n",
              "      <td>2024-11-30</td>\n",
              "      <td>12.775486</td>\n",
              "      <td>11.984602</td>\n",
              "      <td>13.785265</td>\n",
              "      <td>11.953236</td>\n",
              "      <td>13.573430</td>\n",
              "      <td>0.009419</td>\n",
              "      <td>-0.012743</td>\n",
              "      <td>0.031970</td>\n",
              "      <td>0.009419</td>\n",
              "      <td>-0.012743</td>\n",
              "      <td>0.031970</td>\n",
              "      <td>0.0</td>\n",
              "      <td>0.0</td>\n",
              "      <td>0.0</td>\n",
              "      <td>12.895819</td>\n",
              "    </tr>\n",
              "    <tr>\n",
              "      <th>50</th>\n",
              "      <td>2024-12-31</td>\n",
              "      <td>12.843251</td>\n",
              "      <td>12.651403</td>\n",
              "      <td>14.764232</td>\n",
              "      <td>11.935704</td>\n",
              "      <td>13.723481</td>\n",
              "      <td>0.069142</td>\n",
              "      <td>0.044957</td>\n",
              "      <td>0.093993</td>\n",
              "      <td>0.069142</td>\n",
              "      <td>0.044957</td>\n",
              "      <td>0.093993</td>\n",
              "      <td>0.0</td>\n",
              "      <td>0.0</td>\n",
              "      <td>0.0</td>\n",
              "      <td>13.731257</td>\n",
              "    </tr>\n",
              "    <tr>\n",
              "      <th>51</th>\n",
              "      <td>2025-01-31</td>\n",
              "      <td>12.911016</td>\n",
              "      <td>12.475004</td>\n",
              "      <td>14.708335</td>\n",
              "      <td>11.905498</td>\n",
              "      <td>13.866568</td>\n",
              "      <td>0.052735</td>\n",
              "      <td>0.024913</td>\n",
              "      <td>0.082762</td>\n",
              "      <td>0.052735</td>\n",
              "      <td>0.024913</td>\n",
              "      <td>0.082762</td>\n",
              "      <td>0.0</td>\n",
              "      <td>0.0</td>\n",
              "      <td>0.0</td>\n",
              "      <td>13.591876</td>\n",
              "    </tr>\n",
              "    <tr>\n",
              "      <th>52</th>\n",
              "      <td>2025-02-28</td>\n",
              "      <td>12.972223</td>\n",
              "      <td>12.585491</td>\n",
              "      <td>15.026105</td>\n",
              "      <td>11.873747</td>\n",
              "      <td>14.000512</td>\n",
              "      <td>0.063415</td>\n",
              "      <td>0.046945</td>\n",
              "      <td>0.080266</td>\n",
              "      <td>0.063415</td>\n",
              "      <td>0.046945</td>\n",
              "      <td>0.080266</td>\n",
              "      <td>0.0</td>\n",
              "      <td>0.0</td>\n",
              "      <td>0.0</td>\n",
              "      <td>13.794857</td>\n",
              "    </tr>\n",
              "    <tr>\n",
              "      <th>53</th>\n",
              "      <td>2025-03-31</td>\n",
              "      <td>13.039989</td>\n",
              "      <td>12.433104</td>\n",
              "      <td>14.862771</td>\n",
              "      <td>11.846772</td>\n",
              "      <td>14.155461</td>\n",
              "      <td>0.048167</td>\n",
              "      <td>0.023950</td>\n",
              "      <td>0.070667</td>\n",
              "      <td>0.048167</td>\n",
              "      <td>0.023950</td>\n",
              "      <td>0.070667</td>\n",
              "      <td>0.0</td>\n",
              "      <td>0.0</td>\n",
              "      <td>0.0</td>\n",
              "      <td>13.668090</td>\n",
              "    </tr>\n",
              "    <tr>\n",
              "      <th>54</th>\n",
              "      <td>2025-04-30</td>\n",
              "      <td>13.105568</td>\n",
              "      <td>11.625249</td>\n",
              "      <td>14.200070</td>\n",
              "      <td>11.823395</td>\n",
              "      <td>14.320808</td>\n",
              "      <td>-0.012282</td>\n",
              "      <td>-0.034532</td>\n",
              "      <td>0.010624</td>\n",
              "      <td>-0.012282</td>\n",
              "      <td>-0.034532</td>\n",
              "      <td>0.010624</td>\n",
              "      <td>0.0</td>\n",
              "      <td>0.0</td>\n",
              "      <td>0.0</td>\n",
              "      <td>12.944601</td>\n",
              "    </tr>\n",
              "    <tr>\n",
              "      <th>55</th>\n",
              "      <td>2025-05-31</td>\n",
              "      <td>13.173333</td>\n",
              "      <td>11.200710</td>\n",
              "      <td>13.775112</td>\n",
              "      <td>11.833587</td>\n",
              "      <td>14.473112</td>\n",
              "      <td>-0.051828</td>\n",
              "      <td>-0.073627</td>\n",
              "      <td>-0.026397</td>\n",
              "      <td>-0.051828</td>\n",
              "      <td>-0.073627</td>\n",
              "      <td>-0.026397</td>\n",
              "      <td>0.0</td>\n",
              "      <td>0.0</td>\n",
              "      <td>0.0</td>\n",
              "      <td>12.490584</td>\n",
              "    </tr>\n",
              "    <tr>\n",
              "      <th>56</th>\n",
              "      <td>2025-06-30</td>\n",
              "      <td>13.238912</td>\n",
              "      <td>11.200720</td>\n",
              "      <td>13.985778</td>\n",
              "      <td>11.822469</td>\n",
              "      <td>14.610469</td>\n",
              "      <td>-0.046561</td>\n",
              "      <td>-0.067375</td>\n",
              "      <td>-0.024586</td>\n",
              "      <td>-0.046561</td>\n",
              "      <td>-0.067375</td>\n",
              "      <td>-0.024586</td>\n",
              "      <td>0.0</td>\n",
              "      <td>0.0</td>\n",
              "      <td>0.0</td>\n",
              "      <td>12.622498</td>\n",
              "    </tr>\n",
              "    <tr>\n",
              "      <th>57</th>\n",
              "      <td>2025-07-31</td>\n",
              "      <td>13.306678</td>\n",
              "      <td>11.228794</td>\n",
              "      <td>14.196087</td>\n",
              "      <td>11.784130</td>\n",
              "      <td>14.760621</td>\n",
              "      <td>-0.045009</td>\n",
              "      <td>-0.069581</td>\n",
              "      <td>-0.019722</td>\n",
              "      <td>-0.045009</td>\n",
              "      <td>-0.069581</td>\n",
              "      <td>-0.019722</td>\n",
              "      <td>0.0</td>\n",
              "      <td>0.0</td>\n",
              "      <td>0.0</td>\n",
              "      <td>12.707764</td>\n",
              "    </tr>\n",
              "    <tr>\n",
              "      <th>58</th>\n",
              "      <td>2025-08-31</td>\n",
              "      <td>13.374443</td>\n",
              "      <td>11.367194</td>\n",
              "      <td>14.463383</td>\n",
              "      <td>11.757115</td>\n",
              "      <td>14.907324</td>\n",
              "      <td>-0.032624</td>\n",
              "      <td>-0.058394</td>\n",
              "      <td>-0.008755</td>\n",
              "      <td>-0.032624</td>\n",
              "      <td>-0.058394</td>\n",
              "      <td>-0.008755</td>\n",
              "      <td>0.0</td>\n",
              "      <td>0.0</td>\n",
              "      <td>0.0</td>\n",
              "      <td>12.938114</td>\n",
              "    </tr>\n",
              "    <tr>\n",
              "      <th>59</th>\n",
              "      <td>2025-09-30</td>\n",
              "      <td>13.440022</td>\n",
              "      <td>11.174635</td>\n",
              "      <td>14.568125</td>\n",
              "      <td>11.711391</td>\n",
              "      <td>15.075673</td>\n",
              "      <td>-0.039762</td>\n",
              "      <td>-0.061377</td>\n",
              "      <td>-0.019447</td>\n",
              "      <td>-0.039762</td>\n",
              "      <td>-0.061377</td>\n",
              "      <td>-0.019447</td>\n",
              "      <td>0.0</td>\n",
              "      <td>0.0</td>\n",
              "      <td>0.0</td>\n",
              "      <td>12.905623</td>\n",
              "    </tr>\n",
              "  </tbody>\n",
              "</table>\n",
              "</div>"
            ],
            "text/plain": [
              "           ds      trend  yhat_lower  yhat_upper  trend_lower  trend_upper  \\\n",
              "45 2024-07-31  12.508796   11.119756   12.605196    11.952536    13.075054   \n",
              "46 2024-08-31  12.576562   11.566466   13.172178    11.956644    13.188185   \n",
              "47 2024-09-30  12.642141   11.144608   12.909410    11.944974    13.310624   \n",
              "48 2024-10-31  12.709906   11.513985   13.140601    11.957024    13.441442   \n",
              "49 2024-11-30  12.775486   11.984602   13.785265    11.953236    13.573430   \n",
              "50 2024-12-31  12.843251   12.651403   14.764232    11.935704    13.723481   \n",
              "51 2025-01-31  12.911016   12.475004   14.708335    11.905498    13.866568   \n",
              "52 2025-02-28  12.972223   12.585491   15.026105    11.873747    14.000512   \n",
              "53 2025-03-31  13.039989   12.433104   14.862771    11.846772    14.155461   \n",
              "54 2025-04-30  13.105568   11.625249   14.200070    11.823395    14.320808   \n",
              "55 2025-05-31  13.173333   11.200710   13.775112    11.833587    14.473112   \n",
              "56 2025-06-30  13.238912   11.200720   13.985778    11.822469    14.610469   \n",
              "57 2025-07-31  13.306678   11.228794   14.196087    11.784130    14.760621   \n",
              "58 2025-08-31  13.374443   11.367194   14.463383    11.757115    14.907324   \n",
              "59 2025-09-30  13.440022   11.174635   14.568125    11.711391    15.075673   \n",
              "\n",
              "    multiplicative_terms  multiplicative_terms_lower  \\\n",
              "45             -0.051102                   -0.087483   \n",
              "46             -0.016026                   -0.054059   \n",
              "47             -0.045654                   -0.080037   \n",
              "48             -0.029360                   -0.054454   \n",
              "49              0.009419                   -0.012743   \n",
              "50              0.069142                    0.044957   \n",
              "51              0.052735                    0.024913   \n",
              "52              0.063415                    0.046945   \n",
              "53              0.048167                    0.023950   \n",
              "54             -0.012282                   -0.034532   \n",
              "55             -0.051828                   -0.073627   \n",
              "56             -0.046561                   -0.067375   \n",
              "57             -0.045009                   -0.069581   \n",
              "58             -0.032624                   -0.058394   \n",
              "59             -0.039762                   -0.061377   \n",
              "\n",
              "    multiplicative_terms_upper    yearly  yearly_lower  yearly_upper  \\\n",
              "45                   -0.012164 -0.051102     -0.087483     -0.012164   \n",
              "46                    0.020335 -0.016026     -0.054059      0.020335   \n",
              "47                   -0.013552 -0.045654     -0.080037     -0.013552   \n",
              "48                   -0.005340 -0.029360     -0.054454     -0.005340   \n",
              "49                    0.031970  0.009419     -0.012743      0.031970   \n",
              "50                    0.093993  0.069142      0.044957      0.093993   \n",
              "51                    0.082762  0.052735      0.024913      0.082762   \n",
              "52                    0.080266  0.063415      0.046945      0.080266   \n",
              "53                    0.070667  0.048167      0.023950      0.070667   \n",
              "54                    0.010624 -0.012282     -0.034532      0.010624   \n",
              "55                   -0.026397 -0.051828     -0.073627     -0.026397   \n",
              "56                   -0.024586 -0.046561     -0.067375     -0.024586   \n",
              "57                   -0.019722 -0.045009     -0.069581     -0.019722   \n",
              "58                   -0.008755 -0.032624     -0.058394     -0.008755   \n",
              "59                   -0.019447 -0.039762     -0.061377     -0.019447   \n",
              "\n",
              "    additive_terms  additive_terms_lower  additive_terms_upper       yhat  \n",
              "45             0.0                   0.0                   0.0  11.869568  \n",
              "46             0.0                   0.0                   0.0  12.375012  \n",
              "47             0.0                   0.0                   0.0  12.064973  \n",
              "48             0.0                   0.0                   0.0  12.336744  \n",
              "49             0.0                   0.0                   0.0  12.895819  \n",
              "50             0.0                   0.0                   0.0  13.731257  \n",
              "51             0.0                   0.0                   0.0  13.591876  \n",
              "52             0.0                   0.0                   0.0  13.794857  \n",
              "53             0.0                   0.0                   0.0  13.668090  \n",
              "54             0.0                   0.0                   0.0  12.944601  \n",
              "55             0.0                   0.0                   0.0  12.490584  \n",
              "56             0.0                   0.0                   0.0  12.622498  \n",
              "57             0.0                   0.0                   0.0  12.707764  \n",
              "58             0.0                   0.0                   0.0  12.938114  \n",
              "59             0.0                   0.0                   0.0  12.905623  "
            ]
          },
          "execution_count": 57,
          "metadata": {},
          "output_type": "execute_result"
        }
      ],
      "source": [
        "forecast.tail(15)"
      ]
    },
    {
      "cell_type": "code",
      "execution_count": 58,
      "metadata": {
        "colab": {
          "base_uri": "https://localhost:8080/"
        },
        "id": "e8k42TkQwzGr",
        "outputId": "efe92d4b-fda7-4ec2-b8a2-4ab42e71580c"
      },
      "outputs": [
        {
          "data": {
            "text/plain": [
              "46    12.375012\n",
              "Name: yhat, dtype: float64"
            ]
          },
          "execution_count": 58,
          "metadata": {},
          "output_type": "execute_result"
        }
      ],
      "source": [
        "# #Show the models prediction for 8/31/24\n",
        "forecast[forecast.ds == '8/31/24']['yhat']"
      ]
    },
    {
      "cell_type": "code",
      "execution_count": 59,
      "metadata": {
        "colab": {
          "base_uri": "https://localhost:8080/"
        },
        "id": "2ORcN9YcwzGr",
        "outputId": "0e71a8d0-0625-459b-f584-a082376c9e3e"
      },
      "outputs": [
        {
          "data": {
            "text/plain": [
              "46    11.5\n",
              "Name: y, dtype: float64"
            ]
          },
          "execution_count": 59,
          "metadata": {},
          "output_type": "execute_result"
        }
      ],
      "source": [
        "#Actual price for 8/31/24\n",
        "last[last.ds == '8/31/24']['y']"
      ]
    },
    {
      "cell_type": "markdown",
      "metadata": {
        "id": "YHzc64ejwzGs"
      },
      "source": [
        "# Run entire code after entering date"
      ]
    },
    {
      "cell_type": "code",
      "execution_count": 60,
      "metadata": {
        "colab": {
          "base_uri": "https://localhost:8080/"
        },
        "id": "zkYAp4iQwzGs",
        "outputId": "4126eea4-e9e3-455d-85e0-e659e0aa5b5b"
      },
      "outputs": [
        {
          "data": {
            "text/plain": [
              "39    13.092853\n",
              "Name: yhat, dtype: float64"
            ]
          },
          "execution_count": 60,
          "metadata": {},
          "output_type": "execute_result"
        }
      ],
      "source": [
        "future = fbp.make_future_dataframe(periods=120, freq='MS')\n",
        "forecast = fbp.predict(future)\n",
        "\n",
        "#enter Month and year in following format 'mm/01/yy' -- KEEP day @ '01' AND THEN Run the ENTIRE code\n",
        "#example : userdate = 01/01/24\n",
        "userdate = '01/01/24'\n",
        "forecast[forecast.ds == userdate]['yhat']"
      ]
    },
    {
      "cell_type": "code",
      "execution_count": 61,
      "metadata": {
        "colab": {
          "base_uri": "https://localhost:8080/"
        },
        "id": "5ednUdcwwzGs",
        "outputId": "ab065e4a-5a58-48da-f6a6-1175394c0eb5"
      },
      "outputs": [
        {
          "data": {
            "text/plain": [
              "39    12.6\n",
              "Name: y, dtype: float64"
            ]
          },
          "execution_count": 61,
          "metadata": {},
          "output_type": "execute_result"
        }
      ],
      "source": [
        "#Actual price for user date\n",
        "last[last.ds == '1/31/24']['y']"
      ]
    },
    {
      "cell_type": "code",
      "execution_count": 62,
      "metadata": {
        "colab": {
          "base_uri": "https://localhost:8080/"
        },
        "id": "LsbxUkp6wzGs",
        "outputId": "1a5e83b3-b50f-46cf-d194-433943fae9dc"
      },
      "outputs": [
        {
          "data": {
            "text/plain": [
              "array([39])"
            ]
          },
          "execution_count": 62,
          "metadata": {},
          "output_type": "execute_result"
        }
      ],
      "source": [
        "forecast[forecast.ds == userdate].index.values"
      ]
    },
    {
      "cell_type": "code",
      "execution_count": 63,
      "metadata": {
        "colab": {
          "base_uri": "https://localhost:8080/"
        },
        "id": "h7Z-swCWwzGs",
        "outputId": "7ccf2f91-fd22-4300-d0b3-45233243bc07"
      },
      "outputs": [
        {
          "data": {
            "text/plain": [
              "51    14.631753\n",
              "Name: yhat, dtype: float64"
            ]
          },
          "execution_count": 63,
          "metadata": {},
          "output_type": "execute_result"
        }
      ],
      "source": [
        "# Forecast of Price next 12 months\n",
        "T = forecast[forecast.ds == userdate].index.values +12\n",
        "forecast.iloc[T]['yhat']"
      ]
    }
  ],
  "metadata": {
    "colab": {
      "provenance": []
    },
    "kernelspec": {
      "display_name": "Python 3",
      "language": "python",
      "name": "python3"
    },
    "language_info": {
      "codemirror_mode": {
        "name": "ipython",
        "version": 3
      },
      "file_extension": ".py",
      "mimetype": "text/x-python",
      "name": "python",
      "nbconvert_exporter": "python",
      "pygments_lexer": "ipython3",
      "version": "3.9.6"
    },
    "widgets": {
      "application/vnd.jupyter.widget-state+json": {
        "0288f014d59943d6a585c1493062d01f": {
          "model_module": "@jupyter-widgets/controls",
          "model_module_version": "1.5.0",
          "model_name": "DescriptionStyleModel",
          "state": {
            "_model_module": "@jupyter-widgets/controls",
            "_model_module_version": "1.5.0",
            "_model_name": "DescriptionStyleModel",
            "_view_count": null,
            "_view_module": "@jupyter-widgets/base",
            "_view_module_version": "1.2.0",
            "_view_name": "StyleView",
            "description_width": ""
          }
        },
        "175612f3f2d74e5f9627fd8f6661e002": {
          "model_module": "@jupyter-widgets/base",
          "model_module_version": "1.2.0",
          "model_name": "LayoutModel",
          "state": {
            "_model_module": "@jupyter-widgets/base",
            "_model_module_version": "1.2.0",
            "_model_name": "LayoutModel",
            "_view_count": null,
            "_view_module": "@jupyter-widgets/base",
            "_view_module_version": "1.2.0",
            "_view_name": "LayoutView",
            "align_content": null,
            "align_items": null,
            "align_self": null,
            "border": null,
            "bottom": null,
            "display": null,
            "flex": null,
            "flex_flow": null,
            "grid_area": null,
            "grid_auto_columns": null,
            "grid_auto_flow": null,
            "grid_auto_rows": null,
            "grid_column": null,
            "grid_gap": null,
            "grid_row": null,
            "grid_template_areas": null,
            "grid_template_columns": null,
            "grid_template_rows": null,
            "height": null,
            "justify_content": null,
            "justify_items": null,
            "left": null,
            "margin": null,
            "max_height": null,
            "max_width": null,
            "min_height": null,
            "min_width": null,
            "object_fit": null,
            "object_position": null,
            "order": null,
            "overflow": null,
            "overflow_x": null,
            "overflow_y": null,
            "padding": null,
            "right": null,
            "top": null,
            "visibility": null,
            "width": null
          }
        },
        "1dc8fda1a1634e66bac6caf3b957b57b": {
          "model_module": "@jupyter-widgets/controls",
          "model_module_version": "1.5.0",
          "model_name": "ProgressStyleModel",
          "state": {
            "_model_module": "@jupyter-widgets/controls",
            "_model_module_version": "1.5.0",
            "_model_name": "ProgressStyleModel",
            "_view_count": null,
            "_view_module": "@jupyter-widgets/base",
            "_view_module_version": "1.2.0",
            "_view_name": "StyleView",
            "bar_color": "blue",
            "description_width": ""
          }
        },
        "25ad01fbb65c4ab89ab8a110e95708ed": {
          "model_module": "@jupyter-widgets/controls",
          "model_module_version": "1.5.0",
          "model_name": "HBoxModel",
          "state": {
            "_dom_classes": [],
            "_model_module": "@jupyter-widgets/controls",
            "_model_module_version": "1.5.0",
            "_model_name": "HBoxModel",
            "_view_count": null,
            "_view_module": "@jupyter-widgets/controls",
            "_view_module_version": "1.5.0",
            "_view_name": "HBoxView",
            "box_style": "",
            "children": [
              "IPY_MODEL_f5e093062f444d75bfffa57811e148bc",
              "IPY_MODEL_43ff02ffd7454b4ca1c8f10d32bab312",
              "IPY_MODEL_ab938a42abfc4216bfcb2c78d50635df"
            ],
            "layout": "IPY_MODEL_90208a3527304d1caccf6b330f8f96c5"
          }
        },
        "2bb19dc110994cb3b0e9b4f8f5325e8e": {
          "model_module": "@jupyter-widgets/base",
          "model_module_version": "1.2.0",
          "model_name": "LayoutModel",
          "state": {
            "_model_module": "@jupyter-widgets/base",
            "_model_module_version": "1.2.0",
            "_model_name": "LayoutModel",
            "_view_count": null,
            "_view_module": "@jupyter-widgets/base",
            "_view_module_version": "1.2.0",
            "_view_name": "LayoutView",
            "align_content": null,
            "align_items": null,
            "align_self": null,
            "border": null,
            "bottom": null,
            "display": null,
            "flex": null,
            "flex_flow": null,
            "grid_area": null,
            "grid_auto_columns": null,
            "grid_auto_flow": null,
            "grid_auto_rows": null,
            "grid_column": null,
            "grid_gap": null,
            "grid_row": null,
            "grid_template_areas": null,
            "grid_template_columns": null,
            "grid_template_rows": null,
            "height": null,
            "justify_content": null,
            "justify_items": null,
            "left": null,
            "margin": null,
            "max_height": null,
            "max_width": null,
            "min_height": null,
            "min_width": null,
            "object_fit": null,
            "object_position": null,
            "order": null,
            "overflow": null,
            "overflow_x": null,
            "overflow_y": null,
            "padding": null,
            "right": null,
            "top": null,
            "visibility": null,
            "width": null
          }
        },
        "32e0c53de5524912b70e4b593e4a870d": {
          "model_module": "@jupyter-widgets/controls",
          "model_module_version": "1.5.0",
          "model_name": "ProgressStyleModel",
          "state": {
            "_model_module": "@jupyter-widgets/controls",
            "_model_module_version": "1.5.0",
            "_model_name": "ProgressStyleModel",
            "_view_count": null,
            "_view_module": "@jupyter-widgets/base",
            "_view_module_version": "1.2.0",
            "_view_name": "StyleView",
            "bar_color": "blue",
            "description_width": ""
          }
        },
        "3ea74f5786464a4e88cf1f60fdb44ad8": {
          "model_module": "@jupyter-widgets/base",
          "model_module_version": "1.2.0",
          "model_name": "LayoutModel",
          "state": {
            "_model_module": "@jupyter-widgets/base",
            "_model_module_version": "1.2.0",
            "_model_name": "LayoutModel",
            "_view_count": null,
            "_view_module": "@jupyter-widgets/base",
            "_view_module_version": "1.2.0",
            "_view_name": "LayoutView",
            "align_content": null,
            "align_items": null,
            "align_self": null,
            "border": null,
            "bottom": null,
            "display": null,
            "flex": null,
            "flex_flow": null,
            "grid_area": null,
            "grid_auto_columns": null,
            "grid_auto_flow": null,
            "grid_auto_rows": null,
            "grid_column": null,
            "grid_gap": null,
            "grid_row": null,
            "grid_template_areas": null,
            "grid_template_columns": null,
            "grid_template_rows": null,
            "height": null,
            "justify_content": null,
            "justify_items": null,
            "left": null,
            "margin": null,
            "max_height": null,
            "max_width": null,
            "min_height": null,
            "min_width": null,
            "object_fit": null,
            "object_position": null,
            "order": null,
            "overflow": null,
            "overflow_x": null,
            "overflow_y": null,
            "padding": null,
            "right": null,
            "top": null,
            "visibility": null,
            "width": null
          }
        },
        "40076fcde2dd4de4996d7dbfeb644951": {
          "model_module": "@jupyter-widgets/controls",
          "model_module_version": "1.5.0",
          "model_name": "DescriptionStyleModel",
          "state": {
            "_model_module": "@jupyter-widgets/controls",
            "_model_module_version": "1.5.0",
            "_model_name": "DescriptionStyleModel",
            "_view_count": null,
            "_view_module": "@jupyter-widgets/base",
            "_view_module_version": "1.2.0",
            "_view_name": "StyleView",
            "description_width": ""
          }
        },
        "43ff02ffd7454b4ca1c8f10d32bab312": {
          "model_module": "@jupyter-widgets/controls",
          "model_module_version": "1.5.0",
          "model_name": "FloatProgressModel",
          "state": {
            "_dom_classes": [],
            "_model_module": "@jupyter-widgets/controls",
            "_model_module_version": "1.5.0",
            "_model_name": "FloatProgressModel",
            "_view_count": null,
            "_view_module": "@jupyter-widgets/controls",
            "_view_module_version": "1.5.0",
            "_view_name": "ProgressView",
            "bar_style": "success",
            "description": "",
            "description_tooltip": null,
            "layout": "IPY_MODEL_b5b7ea829de449cfab49140d7bd043a1",
            "max": 5,
            "min": 0,
            "orientation": "horizontal",
            "style": "IPY_MODEL_babfdcb5125a43748e7dea6e4cf4c99f",
            "value": 5
          }
        },
        "4a1e2a59b08c4f1ebd429cdb79da9a78": {
          "model_module": "@jupyter-widgets/controls",
          "model_module_version": "1.5.0",
          "model_name": "HTMLModel",
          "state": {
            "_dom_classes": [],
            "_model_module": "@jupyter-widgets/controls",
            "_model_module_version": "1.5.0",
            "_model_name": "HTMLModel",
            "_view_count": null,
            "_view_module": "@jupyter-widgets/controls",
            "_view_module_version": "1.5.0",
            "_view_name": "HTMLView",
            "description": "",
            "description_tooltip": null,
            "layout": "IPY_MODEL_e0ebd15051da4e118bbfeca8abe49faa",
            "placeholder": "​",
            "style": "IPY_MODEL_0288f014d59943d6a585c1493062d01f",
            "value": "chain 4 "
          }
        },
        "4b16cf93c1f64af3995013a0c110e0e8": {
          "model_module": "@jupyter-widgets/controls",
          "model_module_version": "1.5.0",
          "model_name": "HTMLModel",
          "state": {
            "_dom_classes": [],
            "_model_module": "@jupyter-widgets/controls",
            "_model_module_version": "1.5.0",
            "_model_name": "HTMLModel",
            "_view_count": null,
            "_view_module": "@jupyter-widgets/controls",
            "_view_module_version": "1.5.0",
            "_view_name": "HTMLView",
            "description": "",
            "description_tooltip": null,
            "layout": "IPY_MODEL_7070120488bf42a19001b999cc4b4682",
            "placeholder": "​",
            "style": "IPY_MODEL_71e9d220ef014924abd2112f0e8e64ee",
            "value": "chain 1 "
          }
        },
        "550f439fbe4545d28ee4be3524afcf11": {
          "model_module": "@jupyter-widgets/controls",
          "model_module_version": "1.5.0",
          "model_name": "HBoxModel",
          "state": {
            "_dom_classes": [],
            "_model_module": "@jupyter-widgets/controls",
            "_model_module_version": "1.5.0",
            "_model_name": "HBoxModel",
            "_view_count": null,
            "_view_module": "@jupyter-widgets/controls",
            "_view_module_version": "1.5.0",
            "_view_name": "HBoxView",
            "box_style": "",
            "children": [
              "IPY_MODEL_4b16cf93c1f64af3995013a0c110e0e8",
              "IPY_MODEL_eb4de05b1e21445986ae1a9f1367d2d7",
              "IPY_MODEL_de6f0c904785466c8fccfcf02d711b54"
            ],
            "layout": "IPY_MODEL_3ea74f5786464a4e88cf1f60fdb44ad8"
          }
        },
        "57ff5768ddd345dc8c16a0c5f2d892cb": {
          "model_module": "@jupyter-widgets/base",
          "model_module_version": "1.2.0",
          "model_name": "LayoutModel",
          "state": {
            "_model_module": "@jupyter-widgets/base",
            "_model_module_version": "1.2.0",
            "_model_name": "LayoutModel",
            "_view_count": null,
            "_view_module": "@jupyter-widgets/base",
            "_view_module_version": "1.2.0",
            "_view_name": "LayoutView",
            "align_content": null,
            "align_items": null,
            "align_self": null,
            "border": null,
            "bottom": null,
            "display": null,
            "flex": null,
            "flex_flow": null,
            "grid_area": null,
            "grid_auto_columns": null,
            "grid_auto_flow": null,
            "grid_auto_rows": null,
            "grid_column": null,
            "grid_gap": null,
            "grid_row": null,
            "grid_template_areas": null,
            "grid_template_columns": null,
            "grid_template_rows": null,
            "height": null,
            "justify_content": null,
            "justify_items": null,
            "left": null,
            "margin": null,
            "max_height": null,
            "max_width": null,
            "min_height": null,
            "min_width": null,
            "object_fit": null,
            "object_position": null,
            "order": null,
            "overflow": null,
            "overflow_x": null,
            "overflow_y": null,
            "padding": null,
            "right": null,
            "top": null,
            "visibility": null,
            "width": null
          }
        },
        "5df4a14f56a847feb2816b971028a1bc": {
          "model_module": "@jupyter-widgets/base",
          "model_module_version": "1.2.0",
          "model_name": "LayoutModel",
          "state": {
            "_model_module": "@jupyter-widgets/base",
            "_model_module_version": "1.2.0",
            "_model_name": "LayoutModel",
            "_view_count": null,
            "_view_module": "@jupyter-widgets/base",
            "_view_module_version": "1.2.0",
            "_view_name": "LayoutView",
            "align_content": null,
            "align_items": null,
            "align_self": null,
            "border": null,
            "bottom": null,
            "display": null,
            "flex": null,
            "flex_flow": null,
            "grid_area": null,
            "grid_auto_columns": null,
            "grid_auto_flow": null,
            "grid_auto_rows": null,
            "grid_column": null,
            "grid_gap": null,
            "grid_row": null,
            "grid_template_areas": null,
            "grid_template_columns": null,
            "grid_template_rows": null,
            "height": null,
            "justify_content": null,
            "justify_items": null,
            "left": null,
            "margin": null,
            "max_height": null,
            "max_width": null,
            "min_height": null,
            "min_width": null,
            "object_fit": null,
            "object_position": null,
            "order": null,
            "overflow": null,
            "overflow_x": null,
            "overflow_y": null,
            "padding": null,
            "right": null,
            "top": null,
            "visibility": null,
            "width": null
          }
        },
        "6272dced782f41358b0831ef2aa1e8c7": {
          "model_module": "@jupyter-widgets/base",
          "model_module_version": "1.2.0",
          "model_name": "LayoutModel",
          "state": {
            "_model_module": "@jupyter-widgets/base",
            "_model_module_version": "1.2.0",
            "_model_name": "LayoutModel",
            "_view_count": null,
            "_view_module": "@jupyter-widgets/base",
            "_view_module_version": "1.2.0",
            "_view_name": "LayoutView",
            "align_content": null,
            "align_items": null,
            "align_self": null,
            "border": null,
            "bottom": null,
            "display": null,
            "flex": null,
            "flex_flow": null,
            "grid_area": null,
            "grid_auto_columns": null,
            "grid_auto_flow": null,
            "grid_auto_rows": null,
            "grid_column": null,
            "grid_gap": null,
            "grid_row": null,
            "grid_template_areas": null,
            "grid_template_columns": null,
            "grid_template_rows": null,
            "height": null,
            "justify_content": null,
            "justify_items": null,
            "left": null,
            "margin": null,
            "max_height": null,
            "max_width": null,
            "min_height": null,
            "min_width": null,
            "object_fit": null,
            "object_position": null,
            "order": null,
            "overflow": null,
            "overflow_x": null,
            "overflow_y": null,
            "padding": null,
            "right": null,
            "top": null,
            "visibility": null,
            "width": null
          }
        },
        "66037e52fd17492b9d064ead9e7c7f39": {
          "model_module": "@jupyter-widgets/controls",
          "model_module_version": "1.5.0",
          "model_name": "ProgressStyleModel",
          "state": {
            "_model_module": "@jupyter-widgets/controls",
            "_model_module_version": "1.5.0",
            "_model_name": "ProgressStyleModel",
            "_view_count": null,
            "_view_module": "@jupyter-widgets/base",
            "_view_module_version": "1.2.0",
            "_view_name": "StyleView",
            "bar_color": "blue",
            "description_width": ""
          }
        },
        "7070120488bf42a19001b999cc4b4682": {
          "model_module": "@jupyter-widgets/base",
          "model_module_version": "1.2.0",
          "model_name": "LayoutModel",
          "state": {
            "_model_module": "@jupyter-widgets/base",
            "_model_module_version": "1.2.0",
            "_model_name": "LayoutModel",
            "_view_count": null,
            "_view_module": "@jupyter-widgets/base",
            "_view_module_version": "1.2.0",
            "_view_name": "LayoutView",
            "align_content": null,
            "align_items": null,
            "align_self": null,
            "border": null,
            "bottom": null,
            "display": null,
            "flex": null,
            "flex_flow": null,
            "grid_area": null,
            "grid_auto_columns": null,
            "grid_auto_flow": null,
            "grid_auto_rows": null,
            "grid_column": null,
            "grid_gap": null,
            "grid_row": null,
            "grid_template_areas": null,
            "grid_template_columns": null,
            "grid_template_rows": null,
            "height": null,
            "justify_content": null,
            "justify_items": null,
            "left": null,
            "margin": null,
            "max_height": null,
            "max_width": null,
            "min_height": null,
            "min_width": null,
            "object_fit": null,
            "object_position": null,
            "order": null,
            "overflow": null,
            "overflow_x": null,
            "overflow_y": null,
            "padding": null,
            "right": null,
            "top": null,
            "visibility": null,
            "width": null
          }
        },
        "71e9d220ef014924abd2112f0e8e64ee": {
          "model_module": "@jupyter-widgets/controls",
          "model_module_version": "1.5.0",
          "model_name": "DescriptionStyleModel",
          "state": {
            "_model_module": "@jupyter-widgets/controls",
            "_model_module_version": "1.5.0",
            "_model_name": "DescriptionStyleModel",
            "_view_count": null,
            "_view_module": "@jupyter-widgets/base",
            "_view_module_version": "1.2.0",
            "_view_name": "StyleView",
            "description_width": ""
          }
        },
        "76584dd06ac1414093bf8c192ad560cb": {
          "model_module": "@jupyter-widgets/base",
          "model_module_version": "1.2.0",
          "model_name": "LayoutModel",
          "state": {
            "_model_module": "@jupyter-widgets/base",
            "_model_module_version": "1.2.0",
            "_model_name": "LayoutModel",
            "_view_count": null,
            "_view_module": "@jupyter-widgets/base",
            "_view_module_version": "1.2.0",
            "_view_name": "LayoutView",
            "align_content": null,
            "align_items": null,
            "align_self": null,
            "border": null,
            "bottom": null,
            "display": null,
            "flex": null,
            "flex_flow": null,
            "grid_area": null,
            "grid_auto_columns": null,
            "grid_auto_flow": null,
            "grid_auto_rows": null,
            "grid_column": null,
            "grid_gap": null,
            "grid_row": null,
            "grid_template_areas": null,
            "grid_template_columns": null,
            "grid_template_rows": null,
            "height": null,
            "justify_content": null,
            "justify_items": null,
            "left": null,
            "margin": null,
            "max_height": null,
            "max_width": null,
            "min_height": null,
            "min_width": null,
            "object_fit": null,
            "object_position": null,
            "order": null,
            "overflow": null,
            "overflow_x": null,
            "overflow_y": null,
            "padding": null,
            "right": null,
            "top": null,
            "visibility": null,
            "width": null
          }
        },
        "797975f6e9394154973237b9a2a7f8db": {
          "model_module": "@jupyter-widgets/base",
          "model_module_version": "1.2.0",
          "model_name": "LayoutModel",
          "state": {
            "_model_module": "@jupyter-widgets/base",
            "_model_module_version": "1.2.0",
            "_model_name": "LayoutModel",
            "_view_count": null,
            "_view_module": "@jupyter-widgets/base",
            "_view_module_version": "1.2.0",
            "_view_name": "LayoutView",
            "align_content": null,
            "align_items": null,
            "align_self": null,
            "border": null,
            "bottom": null,
            "display": null,
            "flex": null,
            "flex_flow": null,
            "grid_area": null,
            "grid_auto_columns": null,
            "grid_auto_flow": null,
            "grid_auto_rows": null,
            "grid_column": null,
            "grid_gap": null,
            "grid_row": null,
            "grid_template_areas": null,
            "grid_template_columns": null,
            "grid_template_rows": null,
            "height": null,
            "justify_content": null,
            "justify_items": null,
            "left": null,
            "margin": null,
            "max_height": null,
            "max_width": null,
            "min_height": null,
            "min_width": null,
            "object_fit": null,
            "object_position": null,
            "order": null,
            "overflow": null,
            "overflow_x": null,
            "overflow_y": null,
            "padding": null,
            "right": null,
            "top": null,
            "visibility": null,
            "width": null
          }
        },
        "805097bb97c64ec3a96a0a0394665225": {
          "model_module": "@jupyter-widgets/controls",
          "model_module_version": "1.5.0",
          "model_name": "DescriptionStyleModel",
          "state": {
            "_model_module": "@jupyter-widgets/controls",
            "_model_module_version": "1.5.0",
            "_model_name": "DescriptionStyleModel",
            "_view_count": null,
            "_view_module": "@jupyter-widgets/base",
            "_view_module_version": "1.2.0",
            "_view_name": "StyleView",
            "description_width": ""
          }
        },
        "819d504a033a403899ab6a761bfda29e": {
          "model_module": "@jupyter-widgets/controls",
          "model_module_version": "1.5.0",
          "model_name": "HTMLModel",
          "state": {
            "_dom_classes": [],
            "_model_module": "@jupyter-widgets/controls",
            "_model_module_version": "1.5.0",
            "_model_name": "HTMLModel",
            "_view_count": null,
            "_view_module": "@jupyter-widgets/controls",
            "_view_module_version": "1.5.0",
            "_view_name": "HTMLView",
            "description": "",
            "description_tooltip": null,
            "layout": "IPY_MODEL_76584dd06ac1414093bf8c192ad560cb",
            "placeholder": "​",
            "style": "IPY_MODEL_c4f2d046d7304ea7bef35e839a0bc77f",
            "value": "chain 2 "
          }
        },
        "8e26bf82c24240c8bcc15a7db3535141": {
          "model_module": "@jupyter-widgets/controls",
          "model_module_version": "1.5.0",
          "model_name": "FloatProgressModel",
          "state": {
            "_dom_classes": [],
            "_model_module": "@jupyter-widgets/controls",
            "_model_module_version": "1.5.0",
            "_model_name": "FloatProgressModel",
            "_view_count": null,
            "_view_module": "@jupyter-widgets/controls",
            "_view_module_version": "1.5.0",
            "_view_name": "ProgressView",
            "bar_style": "success",
            "description": "",
            "description_tooltip": null,
            "layout": "IPY_MODEL_5df4a14f56a847feb2816b971028a1bc",
            "max": 5,
            "min": 0,
            "orientation": "horizontal",
            "style": "IPY_MODEL_66037e52fd17492b9d064ead9e7c7f39",
            "value": 5
          }
        },
        "90208a3527304d1caccf6b330f8f96c5": {
          "model_module": "@jupyter-widgets/base",
          "model_module_version": "1.2.0",
          "model_name": "LayoutModel",
          "state": {
            "_model_module": "@jupyter-widgets/base",
            "_model_module_version": "1.2.0",
            "_model_name": "LayoutModel",
            "_view_count": null,
            "_view_module": "@jupyter-widgets/base",
            "_view_module_version": "1.2.0",
            "_view_name": "LayoutView",
            "align_content": null,
            "align_items": null,
            "align_self": null,
            "border": null,
            "bottom": null,
            "display": null,
            "flex": null,
            "flex_flow": null,
            "grid_area": null,
            "grid_auto_columns": null,
            "grid_auto_flow": null,
            "grid_auto_rows": null,
            "grid_column": null,
            "grid_gap": null,
            "grid_row": null,
            "grid_template_areas": null,
            "grid_template_columns": null,
            "grid_template_rows": null,
            "height": null,
            "justify_content": null,
            "justify_items": null,
            "left": null,
            "margin": null,
            "max_height": null,
            "max_width": null,
            "min_height": null,
            "min_width": null,
            "object_fit": null,
            "object_position": null,
            "order": null,
            "overflow": null,
            "overflow_x": null,
            "overflow_y": null,
            "padding": null,
            "right": null,
            "top": null,
            "visibility": null,
            "width": null
          }
        },
        "969d931549da48cd8f2e111273dd36a0": {
          "model_module": "@jupyter-widgets/controls",
          "model_module_version": "1.5.0",
          "model_name": "HTMLModel",
          "state": {
            "_dom_classes": [],
            "_model_module": "@jupyter-widgets/controls",
            "_model_module_version": "1.5.0",
            "_model_name": "HTMLModel",
            "_view_count": null,
            "_view_module": "@jupyter-widgets/controls",
            "_view_module_version": "1.5.0",
            "_view_name": "HTMLView",
            "description": "",
            "description_tooltip": null,
            "layout": "IPY_MODEL_57ff5768ddd345dc8c16a0c5f2d892cb",
            "placeholder": "​",
            "style": "IPY_MODEL_ac8624bac5e14f1eb37c5874a64b32da",
            "value": " 00:06 Sampling completed"
          }
        },
        "9a6ee9f70364499daa9417500a50faf3": {
          "model_module": "@jupyter-widgets/controls",
          "model_module_version": "1.5.0",
          "model_name": "HBoxModel",
          "state": {
            "_dom_classes": [],
            "_model_module": "@jupyter-widgets/controls",
            "_model_module_version": "1.5.0",
            "_model_name": "HBoxModel",
            "_view_count": null,
            "_view_module": "@jupyter-widgets/controls",
            "_view_module_version": "1.5.0",
            "_view_name": "HBoxView",
            "box_style": "",
            "children": [
              "IPY_MODEL_819d504a033a403899ab6a761bfda29e",
              "IPY_MODEL_9b243926572d4b49a4f887682940cfa3",
              "IPY_MODEL_f2f20334f5da40a49200be7893d5bffb"
            ],
            "layout": "IPY_MODEL_aea68f94b8424f5997ef6d109ad9f967"
          }
        },
        "9b243926572d4b49a4f887682940cfa3": {
          "model_module": "@jupyter-widgets/controls",
          "model_module_version": "1.5.0",
          "model_name": "FloatProgressModel",
          "state": {
            "_dom_classes": [],
            "_model_module": "@jupyter-widgets/controls",
            "_model_module_version": "1.5.0",
            "_model_name": "FloatProgressModel",
            "_view_count": null,
            "_view_module": "@jupyter-widgets/controls",
            "_view_module_version": "1.5.0",
            "_view_name": "ProgressView",
            "bar_style": "success",
            "description": "",
            "description_tooltip": null,
            "layout": "IPY_MODEL_6272dced782f41358b0831ef2aa1e8c7",
            "max": 5,
            "min": 0,
            "orientation": "horizontal",
            "style": "IPY_MODEL_32e0c53de5524912b70e4b593e4a870d",
            "value": 5
          }
        },
        "ab938a42abfc4216bfcb2c78d50635df": {
          "model_module": "@jupyter-widgets/controls",
          "model_module_version": "1.5.0",
          "model_name": "HTMLModel",
          "state": {
            "_dom_classes": [],
            "_model_module": "@jupyter-widgets/controls",
            "_model_module_version": "1.5.0",
            "_model_name": "HTMLModel",
            "_view_count": null,
            "_view_module": "@jupyter-widgets/controls",
            "_view_module_version": "1.5.0",
            "_view_name": "HTMLView",
            "description": "",
            "description_tooltip": null,
            "layout": "IPY_MODEL_175612f3f2d74e5f9627fd8f6661e002",
            "placeholder": "​",
            "style": "IPY_MODEL_fde15a1da9d4482893eb64bc63079369",
            "value": " 00:06 Sampling completed"
          }
        },
        "ac8624bac5e14f1eb37c5874a64b32da": {
          "model_module": "@jupyter-widgets/controls",
          "model_module_version": "1.5.0",
          "model_name": "DescriptionStyleModel",
          "state": {
            "_model_module": "@jupyter-widgets/controls",
            "_model_module_version": "1.5.0",
            "_model_name": "DescriptionStyleModel",
            "_view_count": null,
            "_view_module": "@jupyter-widgets/base",
            "_view_module_version": "1.2.0",
            "_view_name": "StyleView",
            "description_width": ""
          }
        },
        "aea68f94b8424f5997ef6d109ad9f967": {
          "model_module": "@jupyter-widgets/base",
          "model_module_version": "1.2.0",
          "model_name": "LayoutModel",
          "state": {
            "_model_module": "@jupyter-widgets/base",
            "_model_module_version": "1.2.0",
            "_model_name": "LayoutModel",
            "_view_count": null,
            "_view_module": "@jupyter-widgets/base",
            "_view_module_version": "1.2.0",
            "_view_name": "LayoutView",
            "align_content": null,
            "align_items": null,
            "align_self": null,
            "border": null,
            "bottom": null,
            "display": null,
            "flex": null,
            "flex_flow": null,
            "grid_area": null,
            "grid_auto_columns": null,
            "grid_auto_flow": null,
            "grid_auto_rows": null,
            "grid_column": null,
            "grid_gap": null,
            "grid_row": null,
            "grid_template_areas": null,
            "grid_template_columns": null,
            "grid_template_rows": null,
            "height": null,
            "justify_content": null,
            "justify_items": null,
            "left": null,
            "margin": null,
            "max_height": null,
            "max_width": null,
            "min_height": null,
            "min_width": null,
            "object_fit": null,
            "object_position": null,
            "order": null,
            "overflow": null,
            "overflow_x": null,
            "overflow_y": null,
            "padding": null,
            "right": null,
            "top": null,
            "visibility": null,
            "width": null
          }
        },
        "b3d38a9e8f8c45999b1d2ecf415e150a": {
          "model_module": "@jupyter-widgets/base",
          "model_module_version": "1.2.0",
          "model_name": "LayoutModel",
          "state": {
            "_model_module": "@jupyter-widgets/base",
            "_model_module_version": "1.2.0",
            "_model_name": "LayoutModel",
            "_view_count": null,
            "_view_module": "@jupyter-widgets/base",
            "_view_module_version": "1.2.0",
            "_view_name": "LayoutView",
            "align_content": null,
            "align_items": null,
            "align_self": null,
            "border": null,
            "bottom": null,
            "display": null,
            "flex": null,
            "flex_flow": null,
            "grid_area": null,
            "grid_auto_columns": null,
            "grid_auto_flow": null,
            "grid_auto_rows": null,
            "grid_column": null,
            "grid_gap": null,
            "grid_row": null,
            "grid_template_areas": null,
            "grid_template_columns": null,
            "grid_template_rows": null,
            "height": null,
            "justify_content": null,
            "justify_items": null,
            "left": null,
            "margin": null,
            "max_height": null,
            "max_width": null,
            "min_height": null,
            "min_width": null,
            "object_fit": null,
            "object_position": null,
            "order": null,
            "overflow": null,
            "overflow_x": null,
            "overflow_y": null,
            "padding": null,
            "right": null,
            "top": null,
            "visibility": null,
            "width": null
          }
        },
        "b5b7ea829de449cfab49140d7bd043a1": {
          "model_module": "@jupyter-widgets/base",
          "model_module_version": "1.2.0",
          "model_name": "LayoutModel",
          "state": {
            "_model_module": "@jupyter-widgets/base",
            "_model_module_version": "1.2.0",
            "_model_name": "LayoutModel",
            "_view_count": null,
            "_view_module": "@jupyter-widgets/base",
            "_view_module_version": "1.2.0",
            "_view_name": "LayoutView",
            "align_content": null,
            "align_items": null,
            "align_self": null,
            "border": null,
            "bottom": null,
            "display": null,
            "flex": null,
            "flex_flow": null,
            "grid_area": null,
            "grid_auto_columns": null,
            "grid_auto_flow": null,
            "grid_auto_rows": null,
            "grid_column": null,
            "grid_gap": null,
            "grid_row": null,
            "grid_template_areas": null,
            "grid_template_columns": null,
            "grid_template_rows": null,
            "height": null,
            "justify_content": null,
            "justify_items": null,
            "left": null,
            "margin": null,
            "max_height": null,
            "max_width": null,
            "min_height": null,
            "min_width": null,
            "object_fit": null,
            "object_position": null,
            "order": null,
            "overflow": null,
            "overflow_x": null,
            "overflow_y": null,
            "padding": null,
            "right": null,
            "top": null,
            "visibility": null,
            "width": null
          }
        },
        "babfdcb5125a43748e7dea6e4cf4c99f": {
          "model_module": "@jupyter-widgets/controls",
          "model_module_version": "1.5.0",
          "model_name": "ProgressStyleModel",
          "state": {
            "_model_module": "@jupyter-widgets/controls",
            "_model_module_version": "1.5.0",
            "_model_name": "ProgressStyleModel",
            "_view_count": null,
            "_view_module": "@jupyter-widgets/base",
            "_view_module_version": "1.2.0",
            "_view_name": "StyleView",
            "bar_color": "blue",
            "description_width": ""
          }
        },
        "bbafc4caed99458ba195ef5d3233a1c5": {
          "model_module": "@jupyter-widgets/base",
          "model_module_version": "1.2.0",
          "model_name": "LayoutModel",
          "state": {
            "_model_module": "@jupyter-widgets/base",
            "_model_module_version": "1.2.0",
            "_model_name": "LayoutModel",
            "_view_count": null,
            "_view_module": "@jupyter-widgets/base",
            "_view_module_version": "1.2.0",
            "_view_name": "LayoutView",
            "align_content": null,
            "align_items": null,
            "align_self": null,
            "border": null,
            "bottom": null,
            "display": null,
            "flex": null,
            "flex_flow": null,
            "grid_area": null,
            "grid_auto_columns": null,
            "grid_auto_flow": null,
            "grid_auto_rows": null,
            "grid_column": null,
            "grid_gap": null,
            "grid_row": null,
            "grid_template_areas": null,
            "grid_template_columns": null,
            "grid_template_rows": null,
            "height": null,
            "justify_content": null,
            "justify_items": null,
            "left": null,
            "margin": null,
            "max_height": null,
            "max_width": null,
            "min_height": null,
            "min_width": null,
            "object_fit": null,
            "object_position": null,
            "order": null,
            "overflow": null,
            "overflow_x": null,
            "overflow_y": null,
            "padding": null,
            "right": null,
            "top": null,
            "visibility": null,
            "width": null
          }
        },
        "c4f2d046d7304ea7bef35e839a0bc77f": {
          "model_module": "@jupyter-widgets/controls",
          "model_module_version": "1.5.0",
          "model_name": "DescriptionStyleModel",
          "state": {
            "_model_module": "@jupyter-widgets/controls",
            "_model_module_version": "1.5.0",
            "_model_name": "DescriptionStyleModel",
            "_view_count": null,
            "_view_module": "@jupyter-widgets/base",
            "_view_module_version": "1.2.0",
            "_view_name": "StyleView",
            "description_width": ""
          }
        },
        "de6f0c904785466c8fccfcf02d711b54": {
          "model_module": "@jupyter-widgets/controls",
          "model_module_version": "1.5.0",
          "model_name": "HTMLModel",
          "state": {
            "_dom_classes": [],
            "_model_module": "@jupyter-widgets/controls",
            "_model_module_version": "1.5.0",
            "_model_name": "HTMLModel",
            "_view_count": null,
            "_view_module": "@jupyter-widgets/controls",
            "_view_module_version": "1.5.0",
            "_view_name": "HTMLView",
            "description": "",
            "description_tooltip": null,
            "layout": "IPY_MODEL_e190e834639b40f18a1d58e6543f1681",
            "placeholder": "​",
            "style": "IPY_MODEL_40076fcde2dd4de4996d7dbfeb644951",
            "value": " 00:06 Sampling completed"
          }
        },
        "e0ebd15051da4e118bbfeca8abe49faa": {
          "model_module": "@jupyter-widgets/base",
          "model_module_version": "1.2.0",
          "model_name": "LayoutModel",
          "state": {
            "_model_module": "@jupyter-widgets/base",
            "_model_module_version": "1.2.0",
            "_model_name": "LayoutModel",
            "_view_count": null,
            "_view_module": "@jupyter-widgets/base",
            "_view_module_version": "1.2.0",
            "_view_name": "LayoutView",
            "align_content": null,
            "align_items": null,
            "align_self": null,
            "border": null,
            "bottom": null,
            "display": null,
            "flex": null,
            "flex_flow": null,
            "grid_area": null,
            "grid_auto_columns": null,
            "grid_auto_flow": null,
            "grid_auto_rows": null,
            "grid_column": null,
            "grid_gap": null,
            "grid_row": null,
            "grid_template_areas": null,
            "grid_template_columns": null,
            "grid_template_rows": null,
            "height": null,
            "justify_content": null,
            "justify_items": null,
            "left": null,
            "margin": null,
            "max_height": null,
            "max_width": null,
            "min_height": null,
            "min_width": null,
            "object_fit": null,
            "object_position": null,
            "order": null,
            "overflow": null,
            "overflow_x": null,
            "overflow_y": null,
            "padding": null,
            "right": null,
            "top": null,
            "visibility": null,
            "width": null
          }
        },
        "e190e834639b40f18a1d58e6543f1681": {
          "model_module": "@jupyter-widgets/base",
          "model_module_version": "1.2.0",
          "model_name": "LayoutModel",
          "state": {
            "_model_module": "@jupyter-widgets/base",
            "_model_module_version": "1.2.0",
            "_model_name": "LayoutModel",
            "_view_count": null,
            "_view_module": "@jupyter-widgets/base",
            "_view_module_version": "1.2.0",
            "_view_name": "LayoutView",
            "align_content": null,
            "align_items": null,
            "align_self": null,
            "border": null,
            "bottom": null,
            "display": null,
            "flex": null,
            "flex_flow": null,
            "grid_area": null,
            "grid_auto_columns": null,
            "grid_auto_flow": null,
            "grid_auto_rows": null,
            "grid_column": null,
            "grid_gap": null,
            "grid_row": null,
            "grid_template_areas": null,
            "grid_template_columns": null,
            "grid_template_rows": null,
            "height": null,
            "justify_content": null,
            "justify_items": null,
            "left": null,
            "margin": null,
            "max_height": null,
            "max_width": null,
            "min_height": null,
            "min_width": null,
            "object_fit": null,
            "object_position": null,
            "order": null,
            "overflow": null,
            "overflow_x": null,
            "overflow_y": null,
            "padding": null,
            "right": null,
            "top": null,
            "visibility": null,
            "width": null
          }
        },
        "eb4de05b1e21445986ae1a9f1367d2d7": {
          "model_module": "@jupyter-widgets/controls",
          "model_module_version": "1.5.0",
          "model_name": "FloatProgressModel",
          "state": {
            "_dom_classes": [],
            "_model_module": "@jupyter-widgets/controls",
            "_model_module_version": "1.5.0",
            "_model_name": "FloatProgressModel",
            "_view_count": null,
            "_view_module": "@jupyter-widgets/controls",
            "_view_module_version": "1.5.0",
            "_view_name": "ProgressView",
            "bar_style": "success",
            "description": "",
            "description_tooltip": null,
            "layout": "IPY_MODEL_797975f6e9394154973237b9a2a7f8db",
            "max": 5,
            "min": 0,
            "orientation": "horizontal",
            "style": "IPY_MODEL_1dc8fda1a1634e66bac6caf3b957b57b",
            "value": 5
          }
        },
        "f1aca0e5313d445fa604805e6e131d06": {
          "model_module": "@jupyter-widgets/controls",
          "model_module_version": "1.5.0",
          "model_name": "DescriptionStyleModel",
          "state": {
            "_model_module": "@jupyter-widgets/controls",
            "_model_module_version": "1.5.0",
            "_model_name": "DescriptionStyleModel",
            "_view_count": null,
            "_view_module": "@jupyter-widgets/base",
            "_view_module_version": "1.2.0",
            "_view_name": "StyleView",
            "description_width": ""
          }
        },
        "f2f20334f5da40a49200be7893d5bffb": {
          "model_module": "@jupyter-widgets/controls",
          "model_module_version": "1.5.0",
          "model_name": "HTMLModel",
          "state": {
            "_dom_classes": [],
            "_model_module": "@jupyter-widgets/controls",
            "_model_module_version": "1.5.0",
            "_model_name": "HTMLModel",
            "_view_count": null,
            "_view_module": "@jupyter-widgets/controls",
            "_view_module_version": "1.5.0",
            "_view_name": "HTMLView",
            "description": "",
            "description_tooltip": null,
            "layout": "IPY_MODEL_2bb19dc110994cb3b0e9b4f8f5325e8e",
            "placeholder": "​",
            "style": "IPY_MODEL_805097bb97c64ec3a96a0a0394665225",
            "value": " 00:06 Sampling completed"
          }
        },
        "f5e093062f444d75bfffa57811e148bc": {
          "model_module": "@jupyter-widgets/controls",
          "model_module_version": "1.5.0",
          "model_name": "HTMLModel",
          "state": {
            "_dom_classes": [],
            "_model_module": "@jupyter-widgets/controls",
            "_model_module_version": "1.5.0",
            "_model_name": "HTMLModel",
            "_view_count": null,
            "_view_module": "@jupyter-widgets/controls",
            "_view_module_version": "1.5.0",
            "_view_name": "HTMLView",
            "description": "",
            "description_tooltip": null,
            "layout": "IPY_MODEL_b3d38a9e8f8c45999b1d2ecf415e150a",
            "placeholder": "​",
            "style": "IPY_MODEL_f1aca0e5313d445fa604805e6e131d06",
            "value": "chain 3 "
          }
        },
        "f5febd903057430191dfbb17e95c703c": {
          "model_module": "@jupyter-widgets/controls",
          "model_module_version": "1.5.0",
          "model_name": "HBoxModel",
          "state": {
            "_dom_classes": [],
            "_model_module": "@jupyter-widgets/controls",
            "_model_module_version": "1.5.0",
            "_model_name": "HBoxModel",
            "_view_count": null,
            "_view_module": "@jupyter-widgets/controls",
            "_view_module_version": "1.5.0",
            "_view_name": "HBoxView",
            "box_style": "",
            "children": [
              "IPY_MODEL_4a1e2a59b08c4f1ebd429cdb79da9a78",
              "IPY_MODEL_8e26bf82c24240c8bcc15a7db3535141",
              "IPY_MODEL_969d931549da48cd8f2e111273dd36a0"
            ],
            "layout": "IPY_MODEL_bbafc4caed99458ba195ef5d3233a1c5"
          }
        },
        "fde15a1da9d4482893eb64bc63079369": {
          "model_module": "@jupyter-widgets/controls",
          "model_module_version": "1.5.0",
          "model_name": "DescriptionStyleModel",
          "state": {
            "_model_module": "@jupyter-widgets/controls",
            "_model_module_version": "1.5.0",
            "_model_name": "DescriptionStyleModel",
            "_view_count": null,
            "_view_module": "@jupyter-widgets/base",
            "_view_module_version": "1.2.0",
            "_view_name": "StyleView",
            "description_width": ""
          }
        }
      }
    }
  },
  "nbformat": 4,
  "nbformat_minor": 0
}
